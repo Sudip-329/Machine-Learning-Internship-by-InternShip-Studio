{
  "nbformat": 4,
  "nbformat_minor": 0,
  "metadata": {
    "kernelspec": {
      "display_name": "Python 3",
      "language": "python",
      "name": "python3"
    },
    "language_info": {
      "codemirror_mode": {
        "name": "ipython",
        "version": 3
      },
      "file_extension": ".py",
      "mimetype": "text/x-python",
      "name": "python",
      "nbconvert_exporter": "python",
      "pygments_lexer": "ipython3",
      "version": "3.6.6"
    },
    "colab": {
      "provenance": []
    }
  },
  "cells": [
    {
      "cell_type": "markdown",
      "metadata": {
        "id": "x8sTYlRmYwHY"
      },
      "source": [
        "# 1. The Numpy Package"
      ]
    },
    {
      "cell_type": "markdown",
      "metadata": {
        "id": "ieFH4c0jYwHb"
      },
      "source": [
        "## 1.1 Numpy Array Basics"
      ]
    },
    {
      "cell_type": "code",
      "metadata": {
        "id": "4DDJhWOWYwHc"
      },
      "source": [
        "import numpy as np #import numpy"
      ],
      "execution_count": 3,
      "outputs": []
    },
    {
      "cell_type": "code",
      "metadata": {
        "id": "J7OPmsjQYwHk",
        "colab": {
          "base_uri": "https://localhost:8080/"
        },
        "outputId": "d856c330-e7e1-4377-e6eb-a893d6dee995"
      },
      "source": [
        "l = list(range(1,11)) #create a list\n",
        "l"
      ],
      "execution_count": 4,
      "outputs": [
        {
          "output_type": "execute_result",
          "data": {
            "text/plain": [
              "[1, 2, 3, 4, 5, 6, 7, 8, 9, 10]"
            ]
          },
          "metadata": {},
          "execution_count": 4
        }
      ]
    },
    {
      "cell_type": "code",
      "metadata": {
        "id": "2DYX5aC2YwHs",
        "colab": {
          "base_uri": "https://localhost:8080/"
        },
        "outputId": "a5050998-01dc-4929-b378-bd03564b5510"
      },
      "source": [
        "my_array = np.array(l) #transform list into a numpy array (ndarray)\n",
        "my_array"
      ],
      "execution_count": 5,
      "outputs": [
        {
          "output_type": "execute_result",
          "data": {
            "text/plain": [
              "array([ 1,  2,  3,  4,  5,  6,  7,  8,  9, 10])"
            ]
          },
          "metadata": {},
          "execution_count": 5
        }
      ]
    },
    {
      "cell_type": "code",
      "metadata": {
        "id": "3eNLSA_NYwHy",
        "colab": {
          "base_uri": "https://localhost:8080/"
        },
        "outputId": "cf235e6a-7fd0-4567-e66b-b22c354ed55b"
      },
      "source": [
        "type(my_array)"
      ],
      "execution_count": 6,
      "outputs": [
        {
          "output_type": "execute_result",
          "data": {
            "text/plain": [
              "numpy.ndarray"
            ]
          },
          "metadata": {},
          "execution_count": 6
        }
      ]
    },
    {
      "cell_type": "code",
      "metadata": {
        "id": "PbSlImPXYwH3",
        "colab": {
          "base_uri": "https://localhost:8080/"
        },
        "outputId": "e5a48742-cefe-4c75-9084-bc5d0d4c5ebf"
      },
      "source": [
        "for i in my_array: # same as lists, ndarrays store multiple elements (is iterable)\n",
        "    print(i)"
      ],
      "execution_count": 7,
      "outputs": [
        {
          "output_type": "stream",
          "name": "stdout",
          "text": [
            "1\n",
            "2\n",
            "3\n",
            "4\n",
            "5\n",
            "6\n",
            "7\n",
            "8\n",
            "9\n",
            "10\n"
          ]
        }
      ]
    },
    {
      "cell_type": "code",
      "metadata": {
        "id": "WWIvO1XRYwH-"
      },
      "source": [
        "l = [1, 2.5, \"Dog\", True] #lists can store different datatypes"
      ],
      "execution_count": 8,
      "outputs": []
    },
    {
      "cell_type": "code",
      "metadata": {
        "id": "O6DQrk9tYwID",
        "colab": {
          "base_uri": "https://localhost:8080/"
        },
        "outputId": "d4a74046-3b99-4929-e8c0-4295f60ba936"
      },
      "source": [
        "for i in l:\n",
        "    print(type(i))"
      ],
      "execution_count": 9,
      "outputs": [
        {
          "output_type": "stream",
          "name": "stdout",
          "text": [
            "<class 'int'>\n",
            "<class 'float'>\n",
            "<class 'str'>\n",
            "<class 'bool'>\n"
          ]
        }
      ]
    },
    {
      "cell_type": "code",
      "metadata": {
        "id": "WON4r0HbYwIK",
        "colab": {
          "base_uri": "https://localhost:8080/"
        },
        "outputId": "17bc1f69-ec1d-4726-9aa6-42c503451a1f"
      },
      "source": [
        "a = np.array(l) #in ndarrays, all elements must have same datatype; numpy transforms automatically\n",
        "a"
      ],
      "execution_count": 10,
      "outputs": [
        {
          "output_type": "execute_result",
          "data": {
            "text/plain": [
              "array(['1', '2.5', 'Dog', 'True'], dtype='<U32')"
            ]
          },
          "metadata": {},
          "execution_count": 10
        }
      ]
    },
    {
      "cell_type": "code",
      "metadata": {
        "id": "gd0kE3ZbYwIP",
        "colab": {
          "base_uri": "https://localhost:8080/"
        },
        "outputId": "ed31cb3f-36de-4041-a12b-53765b9b2d4f"
      },
      "source": [
        "for i in a:\n",
        "    print(type(i))"
      ],
      "execution_count": 11,
      "outputs": [
        {
          "output_type": "stream",
          "name": "stdout",
          "text": [
            "<class 'numpy.str_'>\n",
            "<class 'numpy.str_'>\n",
            "<class 'numpy.str_'>\n",
            "<class 'numpy.str_'>\n"
          ]
        }
      ]
    },
    {
      "cell_type": "code",
      "metadata": {
        "id": "HMEZIPGtYwIV",
        "colab": {
          "base_uri": "https://localhost:8080/"
        },
        "outputId": "4bf72f49-388a-4f6e-a79a-2cc844c87545"
      },
      "source": [
        "b = np.array([1., \"2\", 3])\n",
        "b"
      ],
      "execution_count": 12,
      "outputs": [
        {
          "output_type": "execute_result",
          "data": {
            "text/plain": [
              "array(['1.0', '2', '3'], dtype='<U32')"
            ]
          },
          "metadata": {},
          "execution_count": 12
        }
      ]
    },
    {
      "cell_type": "code",
      "metadata": {
        "id": "hv9P1Z0BYwIb",
        "colab": {
          "base_uri": "https://localhost:8080/"
        },
        "outputId": "bb73d3de-653e-46df-be57-ee636ee17d28"
      },
      "source": [
        "type(b)"
      ],
      "execution_count": 13,
      "outputs": [
        {
          "output_type": "execute_result",
          "data": {
            "text/plain": [
              "numpy.ndarray"
            ]
          },
          "metadata": {},
          "execution_count": 13
        }
      ]
    },
    {
      "cell_type": "code",
      "metadata": {
        "id": "kOzM7O0UYwIg",
        "colab": {
          "base_uri": "https://localhost:8080/"
        },
        "outputId": "6ddf4445-0ff9-4100-f2cd-356a48d3dd2d"
      },
      "source": [
        "b.dtype #can check single datatype of all elements with attribute .dtype"
      ],
      "execution_count": 14,
      "outputs": [
        {
          "output_type": "execute_result",
          "data": {
            "text/plain": [
              "dtype('<U32')"
            ]
          },
          "metadata": {},
          "execution_count": 14
        }
      ]
    },
    {
      "cell_type": "markdown",
      "metadata": {
        "id": "jlYeNylLYwIl"
      },
      "source": [
        "## 1.2 Numpy Array (element-wise operations / vectorization)"
      ]
    },
    {
      "cell_type": "code",
      "metadata": {
        "id": "AwWDe2M8YwIm"
      },
      "source": [
        "import numpy as np"
      ],
      "execution_count": 15,
      "outputs": []
    },
    {
      "cell_type": "code",
      "metadata": {
        "id": "OlbqQPRVYwIw",
        "colab": {
          "base_uri": "https://localhost:8080/"
        },
        "outputId": "d5828093-e90a-40dd-f871-271e830acea4"
      },
      "source": [
        "np.arange(1,11) #create new ndarray from 1(incl.) to 11(excl.)"
      ],
      "execution_count": 16,
      "outputs": [
        {
          "output_type": "execute_result",
          "data": {
            "text/plain": [
              "array([ 1,  2,  3,  4,  5,  6,  7,  8,  9, 10])"
            ]
          },
          "metadata": {},
          "execution_count": 16
        }
      ]
    },
    {
      "cell_type": "code",
      "metadata": {
        "id": "5pMSJilqYwI1",
        "colab": {
          "base_uri": "https://localhost:8080/"
        },
        "outputId": "b74ec7e2-57ce-427a-9edd-bf454f807991"
      },
      "source": [
        "np.arange(1,11,2) #only every second number is created"
      ],
      "execution_count": 17,
      "outputs": [
        {
          "output_type": "execute_result",
          "data": {
            "text/plain": [
              "array([1, 3, 5, 7, 9])"
            ]
          },
          "metadata": {},
          "execution_count": 17
        }
      ]
    },
    {
      "cell_type": "code",
      "metadata": {
        "id": "4WFXHI-9YwI5",
        "colab": {
          "base_uri": "https://localhost:8080/"
        },
        "outputId": "5f4eda65-36ef-4e5f-cbed-36409e152ac8"
      },
      "source": [
        "l = [1,2,3,4]\n",
        "l"
      ],
      "execution_count": 18,
      "outputs": [
        {
          "output_type": "execute_result",
          "data": {
            "text/plain": [
              "[1, 2, 3, 4]"
            ]
          },
          "metadata": {},
          "execution_count": 18
        }
      ]
    },
    {
      "cell_type": "code",
      "metadata": {
        "id": "6hZoZ0mHYwI_",
        "colab": {
          "base_uri": "https://localhost:8080/"
        },
        "outputId": "fbb1d253-fdc0-4f71-bd00-b8aec7691d46"
      },
      "source": [
        "l*2 #this is not an element-wise operation"
      ],
      "execution_count": 21,
      "outputs": [
        {
          "output_type": "execute_result",
          "data": {
            "text/plain": [
              "[1, 2, 3, 4, 1, 2, 3, 4]"
            ]
          },
          "metadata": {},
          "execution_count": 21
        }
      ]
    },
    {
      "cell_type": "markdown",
      "source": [
        "**Important**"
      ],
      "metadata": {
        "id": "bEmAIKZbquZZ"
      }
    },
    {
      "cell_type": "code",
      "metadata": {
        "id": "gQ2EGB68YwJD",
        "colab": {
          "base_uri": "https://localhost:8080/"
        },
        "outputId": "769038bc-03cd-44f4-f339-950c3e717777"
      },
      "source": [
        "l1 = [] #element-wise operations with lists require a bunch of code\n",
        "for i in l:\n",
        "    l1.append(i*2)\n",
        "l1"
      ],
      "execution_count": 22,
      "outputs": [
        {
          "output_type": "execute_result",
          "data": {
            "text/plain": [
              "[2, 4, 6, 8]"
            ]
          },
          "metadata": {},
          "execution_count": 22
        }
      ]
    },
    {
      "cell_type": "code",
      "metadata": {
        "id": "5GC7r586YwJN",
        "colab": {
          "base_uri": "https://localhost:8080/"
        },
        "outputId": "0e99fcd5-94b5-4235-f7e4-0f27b752fd6e"
      },
      "source": [
        "a = np.arange(1,5) #create ndarray from 1 to 4 (both including)\n",
        "a"
      ],
      "execution_count": 23,
      "outputs": [
        {
          "output_type": "execute_result",
          "data": {
            "text/plain": [
              "array([1, 2, 3, 4])"
            ]
          },
          "metadata": {},
          "execution_count": 23
        }
      ]
    },
    {
      "cell_type": "code",
      "metadata": {
        "id": "rqjzpWTFYwJU",
        "colab": {
          "base_uri": "https://localhost:8080/"
        },
        "outputId": "b7f4d19e-8f7c-4993-fa9a-0f16e80f2fd9"
      },
      "source": [
        "a * 2 #element-wise (vectorized) operations are pretty simple with ndarrays"
      ],
      "execution_count": 24,
      "outputs": [
        {
          "output_type": "execute_result",
          "data": {
            "text/plain": [
              "array([2, 4, 6, 8])"
            ]
          },
          "metadata": {},
          "execution_count": 24
        }
      ]
    },
    {
      "cell_type": "code",
      "metadata": {
        "id": "OhAYX_eXYwJY",
        "colab": {
          "base_uri": "https://localhost:8080/"
        },
        "outputId": "aa5a3167-a416-448c-af29-6eebc30b4f5f"
      },
      "source": [
        "a + 2 #addition works as well"
      ],
      "execution_count": 25,
      "outputs": [
        {
          "output_type": "execute_result",
          "data": {
            "text/plain": [
              "array([3, 4, 5, 6])"
            ]
          },
          "metadata": {},
          "execution_count": 25
        }
      ]
    },
    {
      "cell_type": "code",
      "metadata": {
        "id": "FRR6pL8gYwJe",
        "colab": {
          "base_uri": "https://localhost:8080/"
        },
        "outputId": "eced5322-0ab7-4f2e-9b56-ed6b1cb7c0fa"
      },
      "source": [
        "a**2 #all elements squared"
      ],
      "execution_count": 26,
      "outputs": [
        {
          "output_type": "execute_result",
          "data": {
            "text/plain": [
              "array([ 1,  4,  9, 16])"
            ]
          },
          "metadata": {},
          "execution_count": 26
        }
      ]
    },
    {
      "cell_type": "code",
      "metadata": {
        "id": "1yDwICwRYwJj",
        "colab": {
          "base_uri": "https://localhost:8080/"
        },
        "outputId": "0c7d70ad-a3c2-48e1-f317-9a260c33d229"
      },
      "source": [
        "2**a #can serve as exponent as well"
      ],
      "execution_count": 27,
      "outputs": [
        {
          "output_type": "execute_result",
          "data": {
            "text/plain": [
              "array([ 2,  4,  8, 16])"
            ]
          },
          "metadata": {},
          "execution_count": 27
        }
      ]
    },
    {
      "cell_type": "code",
      "metadata": {
        "id": "NDX-BpOiYwJn",
        "colab": {
          "base_uri": "https://localhost:8080/"
        },
        "outputId": "8b5ea6da-c1a0-41ed-8610-613803f8b70e"
      },
      "source": [
        "np.sqrt(a) #square root of all elements"
      ],
      "execution_count": 28,
      "outputs": [
        {
          "output_type": "execute_result",
          "data": {
            "text/plain": [
              "array([1.        , 1.41421356, 1.73205081, 2.        ])"
            ]
          },
          "metadata": {},
          "execution_count": 28
        }
      ]
    },
    {
      "cell_type": "code",
      "metadata": {
        "id": "SRgINJGsYwJt",
        "colab": {
          "base_uri": "https://localhost:8080/"
        },
        "outputId": "190ec9ec-ebb6-4ee9-f8c3-e767c5918be0"
      },
      "source": [
        "np.exp(a) #exponentiation with e"
      ],
      "execution_count": 29,
      "outputs": [
        {
          "output_type": "execute_result",
          "data": {
            "text/plain": [
              "array([ 2.71828183,  7.3890561 , 20.08553692, 54.59815003])"
            ]
          },
          "metadata": {},
          "execution_count": 29
        }
      ]
    },
    {
      "cell_type": "code",
      "metadata": {
        "id": "BITiGcfmYwJz",
        "colab": {
          "base_uri": "https://localhost:8080/"
        },
        "outputId": "b9540dc2-858f-437f-eebe-4c2905c01184"
      },
      "source": [
        "np.log(a) #natural logarithm"
      ],
      "execution_count": 30,
      "outputs": [
        {
          "output_type": "execute_result",
          "data": {
            "text/plain": [
              "array([0.        , 0.69314718, 1.09861229, 1.38629436])"
            ]
          },
          "metadata": {},
          "execution_count": 30
        }
      ]
    },
    {
      "cell_type": "code",
      "metadata": {
        "id": "gRV38w6MYwJ4",
        "colab": {
          "base_uri": "https://localhost:8080/"
        },
        "outputId": "dadcb62e-5751-48da-a733-0de0d062dc34"
      },
      "source": [
        "a.sum() #sum of all elements (ndarray method)"
      ],
      "execution_count": 31,
      "outputs": [
        {
          "output_type": "execute_result",
          "data": {
            "text/plain": [
              "10"
            ]
          },
          "metadata": {},
          "execution_count": 31
        }
      ]
    },
    {
      "cell_type": "code",
      "metadata": {
        "id": "uxJykkmqYwJ8",
        "colab": {
          "base_uri": "https://localhost:8080/"
        },
        "outputId": "75daa772-85ad-49a0-b743-08edc7703f7f"
      },
      "source": [
        "np.sum(a) #sum of all elements"
      ],
      "execution_count": 32,
      "outputs": [
        {
          "output_type": "execute_result",
          "data": {
            "text/plain": [
              "10"
            ]
          },
          "metadata": {},
          "execution_count": 32
        }
      ]
    },
    {
      "cell_type": "code",
      "metadata": {
        "id": "crnZAIYmYwKB",
        "colab": {
          "base_uri": "https://localhost:8080/"
        },
        "outputId": "5bf7ce4c-ecf0-4a99-9a67-62ed09bd8613"
      },
      "source": [
        "sum(a)"
      ],
      "execution_count": 33,
      "outputs": [
        {
          "output_type": "execute_result",
          "data": {
            "text/plain": [
              "10"
            ]
          },
          "metadata": {},
          "execution_count": 33
        }
      ]
    },
    {
      "cell_type": "code",
      "metadata": {
        "id": "E-SKZIIaYwKH",
        "colab": {
          "base_uri": "https://localhost:8080/"
        },
        "outputId": "b8546670-264a-44d9-995a-a7816cec61bd"
      },
      "source": [
        "a.size #number of elements in ndarray (ndarray attribute)"
      ],
      "execution_count": 34,
      "outputs": [
        {
          "output_type": "execute_result",
          "data": {
            "text/plain": [
              "4"
            ]
          },
          "metadata": {},
          "execution_count": 34
        }
      ]
    },
    {
      "cell_type": "code",
      "metadata": {
        "id": "1KxIozqwYwKL",
        "colab": {
          "base_uri": "https://localhost:8080/"
        },
        "outputId": "c8abf800-8e8c-47be-94e7-8c054db002da"
      },
      "source": [
        "len(a)"
      ],
      "execution_count": 35,
      "outputs": [
        {
          "output_type": "execute_result",
          "data": {
            "text/plain": [
              "4"
            ]
          },
          "metadata": {},
          "execution_count": 35
        }
      ]
    },
    {
      "cell_type": "code",
      "metadata": {
        "id": "FbZsQFGJYwKR",
        "colab": {
          "base_uri": "https://localhost:8080/"
        },
        "outputId": "708e436e-6e6b-4a27-8649-92e62fbd00e0"
      },
      "source": [
        "b = np.array([-2, -1, -0.5, 0, 1, 2, 3.5])\n",
        "b"
      ],
      "execution_count": 36,
      "outputs": [
        {
          "output_type": "execute_result",
          "data": {
            "text/plain": [
              "array([-2. , -1. , -0.5,  0. ,  1. ,  2. ,  3.5])"
            ]
          },
          "metadata": {},
          "execution_count": 36
        }
      ]
    },
    {
      "cell_type": "code",
      "metadata": {
        "id": "6CJZ81mPYwKW"
      },
      "source": [
        "np.abs(b) #absolute values of all elements"
      ],
      "execution_count": null,
      "outputs": []
    },
    {
      "cell_type": "code",
      "metadata": {
        "id": "N5EgG_iJYwKh"
      },
      "source": [
        "c = np.array([-1.7, -1.5, -0.2, 0.2, 1.5, 1.7, 2.0])\n",
        "c"
      ],
      "execution_count": null,
      "outputs": []
    },
    {
      "cell_type": "code",
      "metadata": {
        "id": "j2sq0Ye-YwKl"
      },
      "source": [
        "np.ceil(c) #element-wise rounding up"
      ],
      "execution_count": null,
      "outputs": []
    },
    {
      "cell_type": "code",
      "metadata": {
        "id": "m_JVb9i9YwKr"
      },
      "source": [
        "np.floor(c) #element-wise rounding down"
      ],
      "execution_count": null,
      "outputs": []
    },
    {
      "cell_type": "code",
      "metadata": {
        "id": "nNVAfq0zYwKx"
      },
      "source": [
        "np.around([-3.23, -0.76, 1.44, 2.65, ], decimals = 0) #evenly round all elements to the given number of decimals."
      ],
      "execution_count": null,
      "outputs": []
    },
    {
      "cell_type": "markdown",
      "metadata": {
        "id": "M1JgIRn8YwK2"
      },
      "source": [
        "## 1.3 Numpy Array (Indexing and Slicing)"
      ]
    },
    {
      "cell_type": "code",
      "metadata": {
        "id": "O-cVNHFLYwK2"
      },
      "source": [
        "import numpy as np"
      ],
      "execution_count": 38,
      "outputs": []
    },
    {
      "cell_type": "code",
      "metadata": {
        "id": "jGLo3egsYwK6",
        "colab": {
          "base_uri": "https://localhost:8080/"
        },
        "outputId": "d027cedd-ccf8-49d8-b66c-fb16936e9d8c"
      },
      "source": [
        "a = np.arange(1,11) #array from 1 to 10 (incl.)\n",
        "a"
      ],
      "execution_count": 37,
      "outputs": [
        {
          "output_type": "execute_result",
          "data": {
            "text/plain": [
              "array([ 1,  2,  3,  4,  5,  6,  7,  8,  9, 10])"
            ]
          },
          "metadata": {},
          "execution_count": 37
        }
      ]
    },
    {
      "cell_type": "code",
      "metadata": {
        "id": "5R7o7B05YwLF",
        "colab": {
          "base_uri": "https://localhost:8080/"
        },
        "outputId": "0d9261ae-9027-42fa-fb6e-8aea6c99fe12"
      },
      "source": [
        "a[0] #first element at index position 0 (zero-based indexing!)"
      ],
      "execution_count": 39,
      "outputs": [
        {
          "output_type": "execute_result",
          "data": {
            "text/plain": [
              "1"
            ]
          },
          "metadata": {},
          "execution_count": 39
        }
      ]
    },
    {
      "cell_type": "code",
      "metadata": {
        "id": "YdKaEF1EYwLL",
        "colab": {
          "base_uri": "https://localhost:8080/"
        },
        "outputId": "314c718b-2896-4294-d41f-3cc0cbcf1111"
      },
      "source": [
        "a[1] #second element (index position 1)"
      ],
      "execution_count": 40,
      "outputs": [
        {
          "output_type": "execute_result",
          "data": {
            "text/plain": [
              "2"
            ]
          },
          "metadata": {},
          "execution_count": 40
        }
      ]
    },
    {
      "cell_type": "code",
      "metadata": {
        "id": "v0gq3kzzYwLP",
        "colab": {
          "base_uri": "https://localhost:8080/"
        },
        "outputId": "3c1169d7-2808-4cdb-fa0c-cadd906380ef"
      },
      "source": [
        "a[-1] #last element"
      ],
      "execution_count": 41,
      "outputs": [
        {
          "output_type": "execute_result",
          "data": {
            "text/plain": [
              "10"
            ]
          },
          "metadata": {},
          "execution_count": 41
        }
      ]
    },
    {
      "cell_type": "code",
      "metadata": {
        "id": "l5V7KGHjYwLY",
        "colab": {
          "base_uri": "https://localhost:8080/"
        },
        "outputId": "5ec00f1c-0772-42d8-a08c-60986e452810"
      },
      "source": [
        "list(enumerate(a)) #list of index,value tuples"
      ],
      "execution_count": 42,
      "outputs": [
        {
          "output_type": "execute_result",
          "data": {
            "text/plain": [
              "[(0, 1),\n",
              " (1, 2),\n",
              " (2, 3),\n",
              " (3, 4),\n",
              " (4, 5),\n",
              " (5, 6),\n",
              " (6, 7),\n",
              " (7, 8),\n",
              " (8, 9),\n",
              " (9, 10)]"
            ]
          },
          "metadata": {},
          "execution_count": 42
        }
      ]
    },
    {
      "cell_type": "code",
      "metadata": {
        "id": "XZUjOmIaYwLf",
        "colab": {
          "base_uri": "https://localhost:8080/"
        },
        "outputId": "916c14b8-4e0f-4c94-9d38-bd32ea11cedf"
      },
      "source": [
        "a[2:6] #slicing from index position 2 (incl.) till position 6 (excl.)"
      ],
      "execution_count": 43,
      "outputs": [
        {
          "output_type": "execute_result",
          "data": {
            "text/plain": [
              "array([3, 4, 5, 6])"
            ]
          },
          "metadata": {},
          "execution_count": 43
        }
      ]
    },
    {
      "cell_type": "code",
      "metadata": {
        "id": "MUT0ELr4YwLk",
        "colab": {
          "base_uri": "https://localhost:8080/"
        },
        "outputId": "be3212c5-d988-4292-d619-ba59c5ffab4c"
      },
      "source": [
        "a[:] #all elements"
      ],
      "execution_count": 44,
      "outputs": [
        {
          "output_type": "execute_result",
          "data": {
            "text/plain": [
              "array([ 1,  2,  3,  4,  5,  6,  7,  8,  9, 10])"
            ]
          },
          "metadata": {},
          "execution_count": 44
        }
      ]
    },
    {
      "cell_type": "code",
      "metadata": {
        "id": "jYHEVX5TYwLq",
        "colab": {
          "base_uri": "https://localhost:8080/"
        },
        "outputId": "93f6cf38-2445-43c0-c920-a78cb9c3919f"
      },
      "source": [
        "a[:5] #all elements until index position 5 (excl.)"
      ],
      "execution_count": 45,
      "outputs": [
        {
          "output_type": "execute_result",
          "data": {
            "text/plain": [
              "array([1, 2, 3, 4, 5])"
            ]
          },
          "metadata": {},
          "execution_count": 45
        }
      ]
    },
    {
      "cell_type": "code",
      "metadata": {
        "id": "0Qnl2oiHYwLv",
        "colab": {
          "base_uri": "https://localhost:8080/"
        },
        "outputId": "2c040fb7-3147-4b39-d0df-89bc647c7b26"
      },
      "source": [
        "a[6:] #all elements from index position 6 (incl.) till the last element (incl.)"
      ],
      "execution_count": 46,
      "outputs": [
        {
          "output_type": "execute_result",
          "data": {
            "text/plain": [
              "array([ 7,  8,  9, 10])"
            ]
          },
          "metadata": {},
          "execution_count": 46
        }
      ]
    },
    {
      "cell_type": "code",
      "metadata": {
        "id": "ZtcKtJiiYwLy",
        "colab": {
          "base_uri": "https://localhost:8080/"
        },
        "outputId": "1f1e0700-e7e8-4ee9-bfd4-971afa067424"
      },
      "source": [
        "a[::2] #every second element, starting from first element"
      ],
      "execution_count": 47,
      "outputs": [
        {
          "output_type": "execute_result",
          "data": {
            "text/plain": [
              "array([1, 3, 5, 7, 9])"
            ]
          },
          "metadata": {},
          "execution_count": 47
        }
      ]
    },
    {
      "cell_type": "code",
      "metadata": {
        "id": "XBCtE--6YwL2",
        "colab": {
          "base_uri": "https://localhost:8080/"
        },
        "outputId": "4e215f02-e1b8-4fb5-c07a-6df80c9846c6"
      },
      "source": [
        "a[::3] #every third element, starting from first element"
      ],
      "execution_count": 48,
      "outputs": [
        {
          "output_type": "execute_result",
          "data": {
            "text/plain": [
              "array([ 1,  4,  7, 10])"
            ]
          },
          "metadata": {},
          "execution_count": 48
        }
      ]
    },
    {
      "cell_type": "code",
      "metadata": {
        "id": "J557OyovYwL6",
        "colab": {
          "base_uri": "https://localhost:8080/"
        },
        "outputId": "bf1f4036-3ff9-4fc9-a7b0-2997ffc05b24"
      },
      "source": [
        "a[2::3] #every third element, starting from third element (index position 2)"
      ],
      "execution_count": 49,
      "outputs": [
        {
          "output_type": "execute_result",
          "data": {
            "text/plain": [
              "array([3, 6, 9])"
            ]
          },
          "metadata": {},
          "execution_count": 49
        }
      ]
    },
    {
      "cell_type": "code",
      "metadata": {
        "id": "NpPN8AfbYwL_",
        "colab": {
          "base_uri": "https://localhost:8080/"
        },
        "outputId": "5af818dc-4f9c-4953-b8b4-ffe9e6e38001"
      },
      "source": [
        "a[0] = 100 #ndarrays are mutable, changing first element to 100\n",
        "a"
      ],
      "execution_count": 50,
      "outputs": [
        {
          "output_type": "execute_result",
          "data": {
            "text/plain": [
              "array([100,   2,   3,   4,   5,   6,   7,   8,   9,  10])"
            ]
          },
          "metadata": {},
          "execution_count": 50
        }
      ]
    },
    {
      "cell_type": "code",
      "metadata": {
        "id": "DgveFg0IYwMH",
        "colab": {
          "base_uri": "https://localhost:8080/"
        },
        "outputId": "f3ffbe65-8c27-4bbd-a46a-853e324adad2"
      },
      "source": [
        "a[-1] = 101 #changing last element to 101\n",
        "a"
      ],
      "execution_count": 51,
      "outputs": [
        {
          "output_type": "execute_result",
          "data": {
            "text/plain": [
              "array([100,   2,   3,   4,   5,   6,   7,   8,   9, 101])"
            ]
          },
          "metadata": {},
          "execution_count": 51
        }
      ]
    },
    {
      "cell_type": "code",
      "metadata": {
        "id": "30WIMnh1YwMN",
        "colab": {
          "base_uri": "https://localhost:8080/"
        },
        "outputId": "f6948f0c-1c80-4d70-bfc9-93b7342b0851"
      },
      "source": [
        "a[2:5] = 50 #in contrast to lists, ndarrays allow braodcasting, assigning one new value to multiple elements\n",
        "a"
      ],
      "execution_count": 52,
      "outputs": [
        {
          "output_type": "execute_result",
          "data": {
            "text/plain": [
              "array([100,   2,  50,  50,  50,   6,   7,   8,   9, 101])"
            ]
          },
          "metadata": {},
          "execution_count": 52
        }
      ]
    },
    {
      "cell_type": "code",
      "metadata": {
        "id": "jIQ7wGdzYwMc",
        "colab": {
          "base_uri": "https://localhost:8080/"
        },
        "outputId": "723acd1e-321f-4938-deae-ec49dea9df12"
      },
      "source": [
        "a[2:5] = [50, 51, 52] #assigning multiple new values to multiple elements\n",
        "a"
      ],
      "execution_count": 53,
      "outputs": [
        {
          "output_type": "execute_result",
          "data": {
            "text/plain": [
              "array([100,   2,  50,  51,  52,   6,   7,   8,   9, 101])"
            ]
          },
          "metadata": {},
          "execution_count": 53
        }
      ]
    },
    {
      "cell_type": "code",
      "metadata": {
        "id": "9OlLq1JGYwMf",
        "colab": {
          "base_uri": "https://localhost:8080/"
        },
        "outputId": "b676ae7f-a6e6-4fe5-dbdc-119590f693e2"
      },
      "source": [
        "a = np.arange(1,11) #creating new ndarray a\n",
        "a"
      ],
      "execution_count": 54,
      "outputs": [
        {
          "output_type": "execute_result",
          "data": {
            "text/plain": [
              "array([ 1,  2,  3,  4,  5,  6,  7,  8,  9, 10])"
            ]
          },
          "metadata": {},
          "execution_count": 54
        }
      ]
    },
    {
      "cell_type": "code",
      "metadata": {
        "id": "L7cZ1xjiYwMi",
        "colab": {
          "base_uri": "https://localhost:8080/"
        },
        "outputId": "858f420d-bd16-4e5f-8993-1887adbfb400"
      },
      "source": [
        "b = a[2:8] # making a slice of ndarray a and assign new variable b,\n",
        "b\n",
        "#try b =a[2:8].copy() afterwords"
      ],
      "execution_count": 55,
      "outputs": [
        {
          "output_type": "execute_result",
          "data": {
            "text/plain": [
              "array([3, 4, 5, 6, 7, 8])"
            ]
          },
          "metadata": {},
          "execution_count": 55
        }
      ]
    },
    {
      "cell_type": "code",
      "metadata": {
        "id": "0ETBH-A8YwMl",
        "colab": {
          "base_uri": "https://localhost:8080/"
        },
        "outputId": "37418d21-184f-46a1-becd-d5dbda3251ae"
      },
      "source": [
        "b[0] = 100 #changing first element of ndarray b\n",
        "b"
      ],
      "execution_count": 56,
      "outputs": [
        {
          "output_type": "execute_result",
          "data": {
            "text/plain": [
              "array([100,   4,   5,   6,   7,   8])"
            ]
          },
          "metadata": {},
          "execution_count": 56
        }
      ]
    },
    {
      "cell_type": "code",
      "metadata": {
        "id": "odEHtcFeYwMq"
      },
      "source": [
        "a #respective element of ndarray a has changed as well!!!"
      ],
      "execution_count": null,
      "outputs": []
    },
    {
      "cell_type": "code",
      "metadata": {
        "id": "YceKaaY_YwMv",
        "colab": {
          "base_uri": "https://localhost:8080/"
        },
        "outputId": "d5889ab4-180c-412e-fb38-39685ada193c"
      },
      "source": [
        "l = list(range(1,11)) #lists behave differently\n",
        "l"
      ],
      "execution_count": 57,
      "outputs": [
        {
          "output_type": "execute_result",
          "data": {
            "text/plain": [
              "[1, 2, 3, 4, 5, 6, 7, 8, 9, 10]"
            ]
          },
          "metadata": {},
          "execution_count": 57
        }
      ]
    },
    {
      "cell_type": "code",
      "metadata": {
        "id": "P6XHeP2ZYwMy",
        "colab": {
          "base_uri": "https://localhost:8080/"
        },
        "outputId": "e208d206-0f4a-4fca-8f6d-79ed0cd75238"
      },
      "source": [
        "m = l[2:8] #here a copy of the slice of l is created\n",
        "m"
      ],
      "execution_count": 58,
      "outputs": [
        {
          "output_type": "execute_result",
          "data": {
            "text/plain": [
              "[3, 4, 5, 6, 7, 8]"
            ]
          },
          "metadata": {},
          "execution_count": 58
        }
      ]
    },
    {
      "cell_type": "code",
      "metadata": {
        "id": "-GctQRbLYwM1",
        "colab": {
          "base_uri": "https://localhost:8080/"
        },
        "outputId": "e8f74414-4e53-499d-ac75-de4d99c47753"
      },
      "source": [
        "m[0] = 100 #changing first element of slice m\n",
        "m"
      ],
      "execution_count": 59,
      "outputs": [
        {
          "output_type": "execute_result",
          "data": {
            "text/plain": [
              "[100, 4, 5, 6, 7, 8]"
            ]
          },
          "metadata": {},
          "execution_count": 59
        }
      ]
    },
    {
      "cell_type": "code",
      "metadata": {
        "id": "PHY-_vLUYwM5",
        "colab": {
          "base_uri": "https://localhost:8080/"
        },
        "outputId": "20671563-a661-4f4c-cfaa-650a74f4ab3a"
      },
      "source": [
        "l #no effect on l !!!"
      ],
      "execution_count": 60,
      "outputs": [
        {
          "output_type": "execute_result",
          "data": {
            "text/plain": [
              "[1, 2, 3, 4, 5, 6, 7, 8, 9, 10]"
            ]
          },
          "metadata": {},
          "execution_count": 60
        }
      ]
    },
    {
      "cell_type": "markdown",
      "metadata": {
        "collapsed": true,
        "id": "u5niHEnhYwM8"
      },
      "source": [
        "## 1.4 Numpy Array (Shape and multiple Dimensions)"
      ]
    },
    {
      "cell_type": "code",
      "metadata": {
        "id": "i2sfm4SGYwM9"
      },
      "source": [
        "import numpy as np"
      ],
      "execution_count": 61,
      "outputs": []
    },
    {
      "cell_type": "code",
      "metadata": {
        "id": "ueMVm_6oYwNA",
        "colab": {
          "base_uri": "https://localhost:8080/"
        },
        "outputId": "7afb26bc-4224-42bf-90fb-e0aee2e01b5b"
      },
      "source": [
        "a = np.arange(1,13) #creating array from 1 to 12\n",
        "a"
      ],
      "execution_count": 62,
      "outputs": [
        {
          "output_type": "execute_result",
          "data": {
            "text/plain": [
              "array([ 1,  2,  3,  4,  5,  6,  7,  8,  9, 10, 11, 12])"
            ]
          },
          "metadata": {},
          "execution_count": 62
        }
      ]
    },
    {
      "cell_type": "code",
      "metadata": {
        "id": "UAN4WtLZYwND",
        "colab": {
          "base_uri": "https://localhost:8080/"
        },
        "outputId": "662c470d-02ac-48c9-9b33-28f499168e79"
      },
      "source": [
        "type(a)"
      ],
      "execution_count": 63,
      "outputs": [
        {
          "output_type": "execute_result",
          "data": {
            "text/plain": [
              "numpy.ndarray"
            ]
          },
          "metadata": {},
          "execution_count": 63
        }
      ]
    },
    {
      "cell_type": "code",
      "metadata": {
        "id": "8UGP1Oy-YwNG",
        "colab": {
          "base_uri": "https://localhost:8080/"
        },
        "outputId": "f37a1a46-0f8f-4317-f1ac-542cf3f9cdad"
      },
      "source": [
        "a.dtype"
      ],
      "execution_count": 64,
      "outputs": [
        {
          "output_type": "execute_result",
          "data": {
            "text/plain": [
              "dtype('int64')"
            ]
          },
          "metadata": {},
          "execution_count": 64
        }
      ]
    },
    {
      "cell_type": "code",
      "metadata": {
        "id": "WQvtl3dSYwNL",
        "colab": {
          "base_uri": "https://localhost:8080/"
        },
        "outputId": "afc5ef57-546e-442e-933f-d1901c7f2da5"
      },
      "source": [
        "a.shape #one-dimensional array, 12 elements in one dimension (vector)"
      ],
      "execution_count": 65,
      "outputs": [
        {
          "output_type": "execute_result",
          "data": {
            "text/plain": [
              "(12,)"
            ]
          },
          "metadata": {},
          "execution_count": 65
        }
      ]
    },
    {
      "cell_type": "code",
      "metadata": {
        "id": "2eObsM8zYwNO"
      },
      "source": [
        "a = a.reshape(2,6) #reshaping a: 2 rows / 6 columns"
      ],
      "execution_count": 66,
      "outputs": []
    },
    {
      "cell_type": "code",
      "metadata": {
        "id": "yFtI8lUlYwNY",
        "colab": {
          "base_uri": "https://localhost:8080/"
        },
        "outputId": "d0a503de-eb06-4c72-a254-91a352c465e7"
      },
      "source": [
        "a"
      ],
      "execution_count": 67,
      "outputs": [
        {
          "output_type": "execute_result",
          "data": {
            "text/plain": [
              "array([[ 1,  2,  3,  4,  5,  6],\n",
              "       [ 7,  8,  9, 10, 11, 12]])"
            ]
          },
          "metadata": {},
          "execution_count": 67
        }
      ]
    },
    {
      "cell_type": "code",
      "metadata": {
        "id": "ZFE0DAKzYwNb",
        "colab": {
          "base_uri": "https://localhost:8080/"
        },
        "outputId": "e5fbdfdb-1d1f-48fa-e176-6d0bcfb37a3d"
      },
      "source": [
        "a.shape # two-dimensional array: 2 rows / 6 columns (matrix)"
      ],
      "execution_count": 68,
      "outputs": [
        {
          "output_type": "execute_result",
          "data": {
            "text/plain": [
              "(2, 6)"
            ]
          },
          "metadata": {},
          "execution_count": 68
        }
      ]
    },
    {
      "cell_type": "code",
      "metadata": {
        "id": "PxS_mr6tYwNf",
        "colab": {
          "base_uri": "https://localhost:8080/"
        },
        "outputId": "3274da89-8589-42b2-ba8a-8dec891220a8"
      },
      "source": [
        "a = a.reshape(6,2) # two-dimensional array: 6 rows / 2 columns\n",
        "a"
      ],
      "execution_count": 69,
      "outputs": [
        {
          "output_type": "execute_result",
          "data": {
            "text/plain": [
              "array([[ 1,  2],\n",
              "       [ 3,  4],\n",
              "       [ 5,  6],\n",
              "       [ 7,  8],\n",
              "       [ 9, 10],\n",
              "       [11, 12]])"
            ]
          },
          "metadata": {},
          "execution_count": 69
        }
      ]
    },
    {
      "cell_type": "code",
      "metadata": {
        "id": "AwXSIWjAYwNi",
        "colab": {
          "base_uri": "https://localhost:8080/"
        },
        "outputId": "812b1f8a-425a-4efa-e7b7-0bd747cdb6c2"
      },
      "source": [
        "a.shape"
      ],
      "execution_count": 70,
      "outputs": [
        {
          "output_type": "execute_result",
          "data": {
            "text/plain": [
              "(6, 2)"
            ]
          },
          "metadata": {},
          "execution_count": 70
        }
      ]
    },
    {
      "cell_type": "code",
      "metadata": {
        "id": "nQjNcBOuYwNo",
        "colab": {
          "base_uri": "https://localhost:8080/"
        },
        "outputId": "297e8326-992b-403e-833d-1f8cc7b4ccfd"
      },
      "source": [
        "a + 100 #element-wise operations still work"
      ],
      "execution_count": 71,
      "outputs": [
        {
          "output_type": "execute_result",
          "data": {
            "text/plain": [
              "array([[101, 102],\n",
              "       [103, 104],\n",
              "       [105, 106],\n",
              "       [107, 108],\n",
              "       [109, 110],\n",
              "       [111, 112]])"
            ]
          },
          "metadata": {},
          "execution_count": 71
        }
      ]
    },
    {
      "cell_type": "code",
      "metadata": {
        "id": "12OAa91WYwNu",
        "colab": {
          "base_uri": "https://localhost:8080/"
        },
        "outputId": "34e923c8-d275-4f37-e579-9dae7d03b51c"
      },
      "source": [
        "a = a.reshape(2,2,3) #creating a three-dimensional array\n",
        "a"
      ],
      "execution_count": 72,
      "outputs": [
        {
          "output_type": "execute_result",
          "data": {
            "text/plain": [
              "array([[[ 1,  2,  3],\n",
              "        [ 4,  5,  6]],\n",
              "\n",
              "       [[ 7,  8,  9],\n",
              "        [10, 11, 12]]])"
            ]
          },
          "metadata": {},
          "execution_count": 72
        }
      ]
    },
    {
      "cell_type": "code",
      "metadata": {
        "id": "MXGxh3p-YwNy",
        "colab": {
          "base_uri": "https://localhost:8080/"
        },
        "outputId": "ce74b1f0-f41b-4249-cbbf-a49fa478c3f5"
      },
      "source": [
        "a.shape"
      ],
      "execution_count": 73,
      "outputs": [
        {
          "output_type": "execute_result",
          "data": {
            "text/plain": [
              "(2, 2, 3)"
            ]
          },
          "metadata": {},
          "execution_count": 73
        }
      ]
    },
    {
      "cell_type": "code",
      "metadata": {
        "id": "iHCxzOArYwN4",
        "colab": {
          "base_uri": "https://localhost:8080/"
        },
        "outputId": "c34d3038-2eb8-4b87-d99d-b4c0cc67a541"
      },
      "source": [
        "b = np.arange(1,101).reshape(20,5) #creating 2-dim ndarray with one line of code\n",
        "b"
      ],
      "execution_count": 75,
      "outputs": [
        {
          "output_type": "execute_result",
          "data": {
            "text/plain": [
              "array([[  1,   2,   3,   4,   5],\n",
              "       [  6,   7,   8,   9,  10],\n",
              "       [ 11,  12,  13,  14,  15],\n",
              "       [ 16,  17,  18,  19,  20],\n",
              "       [ 21,  22,  23,  24,  25],\n",
              "       [ 26,  27,  28,  29,  30],\n",
              "       [ 31,  32,  33,  34,  35],\n",
              "       [ 36,  37,  38,  39,  40],\n",
              "       [ 41,  42,  43,  44,  45],\n",
              "       [ 46,  47,  48,  49,  50],\n",
              "       [ 51,  52,  53,  54,  55],\n",
              "       [ 56,  57,  58,  59,  60],\n",
              "       [ 61,  62,  63,  64,  65],\n",
              "       [ 66,  67,  68,  69,  70],\n",
              "       [ 71,  72,  73,  74,  75],\n",
              "       [ 76,  77,  78,  79,  80],\n",
              "       [ 81,  82,  83,  84,  85],\n",
              "       [ 86,  87,  88,  89,  90],\n",
              "       [ 91,  92,  93,  94,  95],\n",
              "       [ 96,  97,  98,  99, 100]])"
            ]
          },
          "metadata": {},
          "execution_count": 75
        }
      ]
    },
    {
      "cell_type": "markdown",
      "metadata": {
        "id": "ttW5g_IyYwN7"
      },
      "source": [
        "## 1.5 Numpy Array (Indexing and Slicing multi-dimensional arrays)"
      ]
    },
    {
      "cell_type": "code",
      "metadata": {
        "id": "75zf7lefYwN8"
      },
      "source": [
        "import numpy as np"
      ],
      "execution_count": 76,
      "outputs": []
    },
    {
      "cell_type": "code",
      "metadata": {
        "id": "djhT9sJ4YwN_",
        "colab": {
          "base_uri": "https://localhost:8080/"
        },
        "outputId": "04d307ae-fa33-447a-927e-099d97ca2231"
      },
      "source": [
        "a = np.arange(1,13)\n",
        "a"
      ],
      "execution_count": 77,
      "outputs": [
        {
          "output_type": "execute_result",
          "data": {
            "text/plain": [
              "array([ 1,  2,  3,  4,  5,  6,  7,  8,  9, 10, 11, 12])"
            ]
          },
          "metadata": {},
          "execution_count": 77
        }
      ]
    },
    {
      "cell_type": "code",
      "metadata": {
        "id": "tD_at1PqYwOB",
        "colab": {
          "base_uri": "https://localhost:8080/"
        },
        "outputId": "7d09c810-d3b9-40ba-88fb-2bba85cca244"
      },
      "source": [
        "a = a.reshape(3,4) #creating matrix with 3 rows and 4 columns\n",
        "a"
      ],
      "execution_count": 78,
      "outputs": [
        {
          "output_type": "execute_result",
          "data": {
            "text/plain": [
              "array([[ 1,  2,  3,  4],\n",
              "       [ 5,  6,  7,  8],\n",
              "       [ 9, 10, 11, 12]])"
            ]
          },
          "metadata": {},
          "execution_count": 78
        }
      ]
    },
    {
      "cell_type": "code",
      "metadata": {
        "id": "U6d-042xYwOF",
        "colab": {
          "base_uri": "https://localhost:8080/"
        },
        "outputId": "fc395ef9-707e-4b1a-c697-984aa267ca1f"
      },
      "source": [
        "a[0] #first row (index position 0)"
      ],
      "execution_count": 79,
      "outputs": [
        {
          "output_type": "execute_result",
          "data": {
            "text/plain": [
              "array([1, 2, 3, 4])"
            ]
          },
          "metadata": {},
          "execution_count": 79
        }
      ]
    },
    {
      "cell_type": "code",
      "metadata": {
        "id": "ipr5rr43YwOO",
        "colab": {
          "base_uri": "https://localhost:8080/"
        },
        "outputId": "030cc032-f66d-431d-ee6c-73205bba171b"
      },
      "source": [
        "a[1] #second row (index position 1)"
      ],
      "execution_count": 80,
      "outputs": [
        {
          "output_type": "execute_result",
          "data": {
            "text/plain": [
              "array([5, 6, 7, 8])"
            ]
          },
          "metadata": {},
          "execution_count": 80
        }
      ]
    },
    {
      "cell_type": "code",
      "metadata": {
        "id": "Qlqfy0MFYwOR",
        "colab": {
          "base_uri": "https://localhost:8080/"
        },
        "outputId": "7e369f6b-3099-4b31-ebfa-b5f8d56402c0"
      },
      "source": [
        "a[2] #third row (index position 2)"
      ],
      "execution_count": 81,
      "outputs": [
        {
          "output_type": "execute_result",
          "data": {
            "text/plain": [
              "array([ 9, 10, 11, 12])"
            ]
          },
          "metadata": {},
          "execution_count": 81
        }
      ]
    },
    {
      "cell_type": "code",
      "metadata": {
        "id": "5Hnn3RdfYwOb",
        "colab": {
          "base_uri": "https://localhost:8080/"
        },
        "outputId": "770260b4-3c27-4311-94c0-4003d70533ff"
      },
      "source": [
        "a[-1] #last row (index position -1)"
      ],
      "execution_count": 82,
      "outputs": [
        {
          "output_type": "execute_result",
          "data": {
            "text/plain": [
              "array([ 9, 10, 11, 12])"
            ]
          },
          "metadata": {},
          "execution_count": 82
        }
      ]
    },
    {
      "cell_type": "code",
      "metadata": {
        "id": "46kky9YIYwOe",
        "colab": {
          "base_uri": "https://localhost:8080/"
        },
        "outputId": "113a2ba1-b7ec-4a9a-f708-2f5b6341c5f5"
      },
      "source": [
        "a[1][1] #second row, second column"
      ],
      "execution_count": 83,
      "outputs": [
        {
          "output_type": "execute_result",
          "data": {
            "text/plain": [
              "6"
            ]
          },
          "metadata": {},
          "execution_count": 83
        }
      ]
    },
    {
      "cell_type": "code",
      "metadata": {
        "id": "7nm3qV4qYwOi",
        "colab": {
          "base_uri": "https://localhost:8080/"
        },
        "outputId": "fbeaac87-5a34-4420-e86e-f86941640458"
      },
      "source": [
        "a[1,1] #more convenient in one square bracket"
      ],
      "execution_count": 84,
      "outputs": [
        {
          "output_type": "execute_result",
          "data": {
            "text/plain": [
              "6"
            ]
          },
          "metadata": {},
          "execution_count": 84
        }
      ]
    },
    {
      "cell_type": "code",
      "metadata": {
        "id": "vGgA07CGYwOm",
        "colab": {
          "base_uri": "https://localhost:8080/"
        },
        "outputId": "617bba4f-1e44-4abf-a774-14f619fe91ca"
      },
      "source": [
        "a[2,-1] #third row, last column"
      ],
      "execution_count": 85,
      "outputs": [
        {
          "output_type": "execute_result",
          "data": {
            "text/plain": [
              "12"
            ]
          },
          "metadata": {},
          "execution_count": 85
        }
      ]
    },
    {
      "cell_type": "code",
      "metadata": {
        "id": "yrQFFlqVYwOp",
        "colab": {
          "base_uri": "https://localhost:8080/"
        },
        "outputId": "a3cf979e-1aa7-41b6-bbca-4176bb175ff1"
      },
      "source": [
        "a[:,0] #all rows, first column"
      ],
      "execution_count": 86,
      "outputs": [
        {
          "output_type": "execute_result",
          "data": {
            "text/plain": [
              "array([1, 5, 9])"
            ]
          },
          "metadata": {},
          "execution_count": 86
        }
      ]
    },
    {
      "cell_type": "code",
      "metadata": {
        "id": "OiZfcC9iYwOt",
        "colab": {
          "base_uri": "https://localhost:8080/"
        },
        "outputId": "15f530cb-f011-42b0-e2b1-e57c1866642b"
      },
      "source": [
        "a[:,1] #all rows, second column"
      ],
      "execution_count": 87,
      "outputs": [
        {
          "output_type": "execute_result",
          "data": {
            "text/plain": [
              "array([ 2,  6, 10])"
            ]
          },
          "metadata": {},
          "execution_count": 87
        }
      ]
    },
    {
      "cell_type": "code",
      "metadata": {
        "id": "1w5ZTntQYwOv",
        "colab": {
          "base_uri": "https://localhost:8080/"
        },
        "outputId": "ee3b77de-6d2e-4ba9-e09e-be846e758b5b"
      },
      "source": [
        "a[:,-1] #all rows, last column"
      ],
      "execution_count": 88,
      "outputs": [
        {
          "output_type": "execute_result",
          "data": {
            "text/plain": [
              "array([ 4,  8, 12])"
            ]
          },
          "metadata": {},
          "execution_count": 88
        }
      ]
    },
    {
      "cell_type": "code",
      "metadata": {
        "id": "4Px6ruccYwOy",
        "colab": {
          "base_uri": "https://localhost:8080/"
        },
        "outputId": "28321596-b520-4cfa-ccd7-07ecd1ddbddf"
      },
      "source": [
        "a[:2,1:3] #first two rows, column two and three"
      ],
      "execution_count": 89,
      "outputs": [
        {
          "output_type": "execute_result",
          "data": {
            "text/plain": [
              "array([[2, 3],\n",
              "       [6, 7]])"
            ]
          },
          "metadata": {},
          "execution_count": 89
        }
      ]
    },
    {
      "cell_type": "code",
      "metadata": {
        "id": "A25kpYRcYwO1",
        "colab": {
          "base_uri": "https://localhost:8080/"
        },
        "outputId": "e36e54cc-1ca4-4c85-8d12-91f2e1b859ab"
      },
      "source": [
        "a"
      ],
      "execution_count": 90,
      "outputs": [
        {
          "output_type": "execute_result",
          "data": {
            "text/plain": [
              "array([[ 1,  2,  3,  4],\n",
              "       [ 5,  6,  7,  8],\n",
              "       [ 9, 10, 11, 12]])"
            ]
          },
          "metadata": {},
          "execution_count": 90
        }
      ]
    },
    {
      "cell_type": "code",
      "metadata": {
        "id": "vmXFKFLWYwO4",
        "colab": {
          "base_uri": "https://localhost:8080/"
        },
        "outputId": "8340f97f-bc02-420c-a31b-5ea7656fe4eb"
      },
      "source": [
        "a.T #Transpose: switching axes (attribute)"
      ],
      "execution_count": 91,
      "outputs": [
        {
          "output_type": "execute_result",
          "data": {
            "text/plain": [
              "array([[ 1,  5,  9],\n",
              "       [ 2,  6, 10],\n",
              "       [ 3,  7, 11],\n",
              "       [ 4,  8, 12]])"
            ]
          },
          "metadata": {},
          "execution_count": 91
        }
      ]
    },
    {
      "cell_type": "code",
      "metadata": {
        "id": "e3GHIEYtYwO7",
        "colab": {
          "base_uri": "https://localhost:8080/"
        },
        "outputId": "64299760-965e-48a7-ff92-a1c25d5ee86f"
      },
      "source": [
        "a.transpose() #same (method)"
      ],
      "execution_count": 92,
      "outputs": [
        {
          "output_type": "execute_result",
          "data": {
            "text/plain": [
              "array([[ 1,  5,  9],\n",
              "       [ 2,  6, 10],\n",
              "       [ 3,  7, 11],\n",
              "       [ 4,  8, 12]])"
            ]
          },
          "metadata": {},
          "execution_count": 92
        }
      ]
    },
    {
      "cell_type": "code",
      "metadata": {
        "id": "Ij9eicgwYwO9",
        "colab": {
          "base_uri": "https://localhost:8080/"
        },
        "outputId": "a5cf84b5-e784-433b-a3d1-5c0e3aae20f2"
      },
      "source": [
        "a"
      ],
      "execution_count": 93,
      "outputs": [
        {
          "output_type": "execute_result",
          "data": {
            "text/plain": [
              "array([[ 1,  2,  3,  4],\n",
              "       [ 5,  6,  7,  8],\n",
              "       [ 9, 10, 11, 12]])"
            ]
          },
          "metadata": {},
          "execution_count": 93
        }
      ]
    },
    {
      "cell_type": "code",
      "metadata": {
        "id": "9fwTZe2JYwPA"
      },
      "source": [
        "a[:,-1] = a[:,-1] /4 #changing slice inplace"
      ],
      "execution_count": 94,
      "outputs": []
    },
    {
      "cell_type": "code",
      "metadata": {
        "id": "82OxQYGbYwPG",
        "colab": {
          "base_uri": "https://localhost:8080/"
        },
        "outputId": "1fbbf6f0-215f-46e8-ec33-6bdb79a3f204"
      },
      "source": [
        "a"
      ],
      "execution_count": 95,
      "outputs": [
        {
          "output_type": "execute_result",
          "data": {
            "text/plain": [
              "array([[ 1,  2,  3,  1],\n",
              "       [ 5,  6,  7,  2],\n",
              "       [ 9, 10, 11,  3]])"
            ]
          },
          "metadata": {},
          "execution_count": 95
        }
      ]
    },
    {
      "cell_type": "code",
      "metadata": {
        "id": "STxhydkzYwPM",
        "colab": {
          "base_uri": "https://localhost:8080/"
        },
        "outputId": "4ea2c9d8-df0b-484a-80e7-71d8527e83f3"
      },
      "source": [
        "a = np.arange(1,13).reshape(3,4) #creating a 3x4 matrix\n",
        "a"
      ],
      "execution_count": 96,
      "outputs": [
        {
          "output_type": "execute_result",
          "data": {
            "text/plain": [
              "array([[ 1,  2,  3,  4],\n",
              "       [ 5,  6,  7,  8],\n",
              "       [ 9, 10, 11, 12]])"
            ]
          },
          "metadata": {},
          "execution_count": 96
        }
      ]
    },
    {
      "cell_type": "code",
      "metadata": {
        "id": "1bCm4E14YwPQ",
        "colab": {
          "base_uri": "https://localhost:8080/"
        },
        "outputId": "c1cfee7b-ea63-4526-dca0-6c973534e006"
      },
      "source": [
        "a.sum() #sum over all elements in matrix"
      ],
      "execution_count": 97,
      "outputs": [
        {
          "output_type": "execute_result",
          "data": {
            "text/plain": [
              "78"
            ]
          },
          "metadata": {},
          "execution_count": 97
        }
      ]
    },
    {
      "cell_type": "code",
      "metadata": {
        "id": "IgU4jf3BYwPT",
        "colab": {
          "base_uri": "https://localhost:8080/"
        },
        "outputId": "b159b075-2068-455d-f62e-63e388e73ba3"
      },
      "source": [
        "a.sum(axis = 0) #sum of each column"
      ],
      "execution_count": 98,
      "outputs": [
        {
          "output_type": "execute_result",
          "data": {
            "text/plain": [
              "array([15, 18, 21, 24])"
            ]
          },
          "metadata": {},
          "execution_count": 98
        }
      ]
    },
    {
      "cell_type": "code",
      "metadata": {
        "id": "hu4_DAdZYwPV",
        "colab": {
          "base_uri": "https://localhost:8080/"
        },
        "outputId": "3a9fb9f3-3e8b-4989-f66e-c671e29dbc11"
      },
      "source": [
        "a.sum(axis = 1) #sum of each row"
      ],
      "execution_count": 99,
      "outputs": [
        {
          "output_type": "execute_result",
          "data": {
            "text/plain": [
              "array([10, 26, 42])"
            ]
          },
          "metadata": {},
          "execution_count": 99
        }
      ]
    },
    {
      "cell_type": "code",
      "metadata": {
        "id": "aDWy90RbYwPY",
        "colab": {
          "base_uri": "https://localhost:8080/"
        },
        "outputId": "fc218578-b06f-4a53-ad50-fe995bc374a9"
      },
      "source": [
        "a.cumsum() #cumulative sum of all elements"
      ],
      "execution_count": 100,
      "outputs": [
        {
          "output_type": "execute_result",
          "data": {
            "text/plain": [
              "array([ 1,  3,  6, 10, 15, 21, 28, 36, 45, 55, 66, 78])"
            ]
          },
          "metadata": {},
          "execution_count": 100
        }
      ]
    },
    {
      "cell_type": "code",
      "metadata": {
        "id": "JC0PJh8RYwPa",
        "colab": {
          "base_uri": "https://localhost:8080/"
        },
        "outputId": "12d80b50-6e1d-4b54-8445-278994ccaeaf"
      },
      "source": [
        "a.cumsum(axis = 0) #cumulative sum for each column"
      ],
      "execution_count": 101,
      "outputs": [
        {
          "output_type": "execute_result",
          "data": {
            "text/plain": [
              "array([[ 1,  2,  3,  4],\n",
              "       [ 6,  8, 10, 12],\n",
              "       [15, 18, 21, 24]])"
            ]
          },
          "metadata": {},
          "execution_count": 101
        }
      ]
    },
    {
      "cell_type": "code",
      "metadata": {
        "id": "OYGXbDUzYwPc",
        "colab": {
          "base_uri": "https://localhost:8080/"
        },
        "outputId": "11943c4a-d6e4-4f7e-e94a-bd9a18bab0fd"
      },
      "source": [
        "a.cumsum(axis = 1) #cumulative sum for each row"
      ],
      "execution_count": 102,
      "outputs": [
        {
          "output_type": "execute_result",
          "data": {
            "text/plain": [
              "array([[ 1,  3,  6, 10],\n",
              "       [ 5, 11, 18, 26],\n",
              "       [ 9, 19, 30, 42]])"
            ]
          },
          "metadata": {},
          "execution_count": 102
        }
      ]
    },
    {
      "cell_type": "code",
      "metadata": {
        "id": "L9Ff4Op3YwPf",
        "colab": {
          "base_uri": "https://localhost:8080/"
        },
        "outputId": "b451081b-ad91-4bf9-a4f4-5046ce0b425a"
      },
      "source": [
        "a"
      ],
      "execution_count": 103,
      "outputs": [
        {
          "output_type": "execute_result",
          "data": {
            "text/plain": [
              "array([[ 1,  2,  3,  4],\n",
              "       [ 5,  6,  7,  8],\n",
              "       [ 9, 10, 11, 12]])"
            ]
          },
          "metadata": {},
          "execution_count": 103
        }
      ]
    },
    {
      "cell_type": "code",
      "metadata": {
        "id": "7nKJpJJCYwPh",
        "colab": {
          "base_uri": "https://localhost:8080/"
        },
        "outputId": "ac7021a9-3f87-4abe-ce10-91e253c6be11"
      },
      "source": [
        "a.prod() #product over all elements"
      ],
      "execution_count": 104,
      "outputs": [
        {
          "output_type": "execute_result",
          "data": {
            "text/plain": [
              "479001600"
            ]
          },
          "metadata": {},
          "execution_count": 104
        }
      ]
    },
    {
      "cell_type": "code",
      "metadata": {
        "id": "M3YRIjiUYwPk",
        "colab": {
          "base_uri": "https://localhost:8080/"
        },
        "outputId": "0d960216-8484-436b-b9dd-c6ca5ccb184d"
      },
      "source": [
        "a.prod(axis = 0) #product over all elements in each column"
      ],
      "execution_count": 105,
      "outputs": [
        {
          "output_type": "execute_result",
          "data": {
            "text/plain": [
              "array([ 45, 120, 231, 384])"
            ]
          },
          "metadata": {},
          "execution_count": 105
        }
      ]
    },
    {
      "cell_type": "code",
      "metadata": {
        "id": "iNbv-gLEYwPo",
        "colab": {
          "base_uri": "https://localhost:8080/"
        },
        "outputId": "84180718-0b47-4ab7-bf8e-57f994a69ec8"
      },
      "source": [
        "a.prod(axis = 1) #product over all elements in each row"
      ],
      "execution_count": 106,
      "outputs": [
        {
          "output_type": "execute_result",
          "data": {
            "text/plain": [
              "array([   24,  1680, 11880])"
            ]
          },
          "metadata": {},
          "execution_count": 106
        }
      ]
    }
  ]
}