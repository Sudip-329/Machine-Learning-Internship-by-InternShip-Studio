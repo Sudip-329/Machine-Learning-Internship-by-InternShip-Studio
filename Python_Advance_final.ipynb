{
  "nbformat": 4,
  "nbformat_minor": 0,
  "metadata": {
    "colab": {
      "provenance": [],
      "collapsed_sections": [
        "25g_pGYth-Se",
        "Hshx3BGalhdK",
        "bhAPhLBsr4fG",
        "sUmfYCuxwDHu",
        "rGkW4GX61pol",
        "6KTbpeHA3zcN"
      ],
      "toc_visible": true
    },
    "kernelspec": {
      "name": "python3",
      "display_name": "Python 3"
    }
  },
  "cells": [
    {
      "cell_type": "markdown",
      "metadata": {
        "id": "25g_pGYth-Se"
      },
      "source": [
        "#while loop in Python Programming\n",
        "A while loop statement in Python programming language repeatedly executes a target statement as long as a given condition is true."
      ]
    },
    {
      "cell_type": "code",
      "metadata": {
        "id": "vMEwucoOhzZy",
        "colab": {
          "base_uri": "https://localhost:8080/"
        },
        "outputId": "a3b4f120-dc4b-4577-c2ae-085b86ace423"
      },
      "source": [
        "# while statement is like if statement.\n",
        "i = 0\n",
        "while i<5:\n",
        "  print (i)\n",
        "  i= i+1"
      ],
      "execution_count": 1,
      "outputs": [
        {
          "output_type": "stream",
          "name": "stdout",
          "text": [
            "0\n",
            "1\n",
            "2\n",
            "3\n",
            "4\n"
          ]
        }
      ]
    },
    {
      "cell_type": "code",
      "metadata": {
        "id": "bzBFobjqi0yi",
        "colab": {
          "base_uri": "https://localhost:8080/"
        },
        "outputId": "dbac045f-615f-4787-9795-aa6106ea93da"
      },
      "source": [
        "# A break statement is used to break from a loop\n",
        "i = 0\n",
        "while i<15:\n",
        "  if i==12:\n",
        "    break\n",
        "  print (i)\n",
        "  i= i+1"
      ],
      "execution_count": 2,
      "outputs": [
        {
          "output_type": "stream",
          "name": "stdout",
          "text": [
            "0\n",
            "1\n",
            "2\n",
            "3\n",
            "4\n",
            "5\n",
            "6\n",
            "7\n",
            "8\n",
            "9\n",
            "10\n",
            "11\n"
          ]
        }
      ]
    },
    {
      "cell_type": "code",
      "metadata": {
        "id": "LcsOIxJzjy1R",
        "colab": {
          "base_uri": "https://localhost:8080/"
        },
        "outputId": "ea7d1a6e-2212-4158-c3bc-d7c8e8469d80"
      },
      "source": [
        "# A continue statement stops the flow and goes back again to the starting point of block.\n",
        "#\n",
        "# continue - goes back to start of the block\n",
        "\n",
        "i = 0\n",
        "while i<20:\n",
        "  if (i % 2==0):\n",
        "    i=i+1\n",
        "    print (\"Inside continue\",i)\n",
        "    continue\n",
        "  i=i+2\n",
        "  print (i)\n",
        "  i= i+1"
      ],
      "execution_count": 3,
      "outputs": [
        {
          "output_type": "stream",
          "name": "stdout",
          "text": [
            "Inside continue 1\n",
            "3\n",
            "Inside continue 5\n",
            "7\n",
            "Inside continue 9\n",
            "11\n",
            "Inside continue 13\n",
            "15\n",
            "Inside continue 17\n",
            "19\n"
          ]
        }
      ]
    },
    {
      "cell_type": "code",
      "metadata": {
        "id": "2eXllkhHkQ9m",
        "colab": {
          "base_uri": "https://localhost:8080/"
        },
        "outputId": "d063d5ab-38b4-4145-e816-71f8092f1dca"
      },
      "source": [
        "#Using else Statement with While Loop\n",
        "count = 0\n",
        "while count < 15:\n",
        "   print (count, \" is  less than 5\")\n",
        "   count = count + 1\n",
        "else:\n",
        "   print (count, \" is not less than 5\")"
      ],
      "execution_count": 4,
      "outputs": [
        {
          "output_type": "stream",
          "name": "stdout",
          "text": [
            "0  is  less than 5\n",
            "1  is  less than 5\n",
            "2  is  less than 5\n",
            "3  is  less than 5\n",
            "4  is  less than 5\n",
            "5  is  less than 5\n",
            "6  is  less than 5\n",
            "7  is  less than 5\n",
            "8  is  less than 5\n",
            "9  is  less than 5\n",
            "10  is  less than 5\n",
            "11  is  less than 5\n",
            "12  is  less than 5\n",
            "13  is  less than 5\n",
            "14  is  less than 5\n",
            "15  is not less than 5\n"
          ]
        }
      ]
    },
    {
      "cell_type": "markdown",
      "metadata": {
        "id": "Hshx3BGalhdK"
      },
      "source": [
        "#for loop in Python Programming\n",
        "Executes a sequence of statements multiple times and abbreviates the code that manages the loop variable."
      ]
    },
    {
      "cell_type": "code",
      "metadata": {
        "id": "XR50GT2_kYmU",
        "colab": {
          "base_uri": "https://localhost:8080/"
        },
        "outputId": "57a0646f-5906-4653-9752-4dd1da69fa41"
      },
      "source": [
        "#Print each fruit in a fruit list:\n",
        "fruits = [\"apple\", \"banana\", \"cherry\"]\n",
        "for x in fruits:\n",
        "  print(x)"
      ],
      "execution_count": 5,
      "outputs": [
        {
          "output_type": "stream",
          "name": "stdout",
          "text": [
            "apple\n",
            "banana\n",
            "cherry\n"
          ]
        }
      ]
    },
    {
      "cell_type": "code",
      "metadata": {
        "id": "9h0K790JmzQf",
        "colab": {
          "base_uri": "https://localhost:8080/"
        },
        "outputId": "0724eb27-5358-40ad-d8b0-d730b496403d"
      },
      "source": [
        "# Program to find the sum of all numbers stored in a list\n",
        "\n",
        "# List of numbers\n",
        "numbers = [6, 5, 3, -8, 4, 2, 5, 4, 11]\n",
        "\n",
        "# variable to store the sum\n",
        "sum = 0\n",
        "\n",
        "# iterate over the list\n",
        "for val in numbers:\n",
        "\tsum = sum+val\n",
        "\n",
        "print(\"The sum is\", sum)"
      ],
      "execution_count": 6,
      "outputs": [
        {
          "output_type": "stream",
          "name": "stdout",
          "text": [
            "The sum is 32\n"
          ]
        }
      ]
    },
    {
      "cell_type": "code",
      "metadata": {
        "id": "_Q6yCbJLm2F-",
        "colab": {
          "base_uri": "https://localhost:8080/"
        },
        "outputId": "e8b1cff8-a656-4594-c57d-efa7bb993a58"
      },
      "source": [
        "#range function\n",
        "#We can generate a sequence of numbers using range() function.\n",
        "print(range(10))\n",
        "\n",
        "print(list(range(10)))\n",
        "\n",
        "print(list(range(2, 8)))\n",
        "\n",
        "print(list(range(2, 20, 3)))"
      ],
      "execution_count": 7,
      "outputs": [
        {
          "output_type": "stream",
          "name": "stdout",
          "text": [
            "range(0, 10)\n",
            "[0, 1, 2, 3, 4, 5, 6, 7, 8, 9]\n",
            "[2, 3, 4, 5, 6, 7]\n",
            "[2, 5, 8, 11, 14, 17]\n"
          ]
        }
      ]
    },
    {
      "cell_type": "code",
      "metadata": {
        "id": "dFQgnNYcnZJs",
        "colab": {
          "base_uri": "https://localhost:8080/"
        },
        "outputId": "dbf383d0-f1a2-456f-916e-eddbd2ce8693"
      },
      "source": [
        "#Loop through the letters in the word \"banana\":\n",
        "\n",
        "for x in \"banana\":\n",
        "  print(x)"
      ],
      "execution_count": 8,
      "outputs": [
        {
          "output_type": "stream",
          "name": "stdout",
          "text": [
            "b\n",
            "a\n",
            "n\n",
            "a\n",
            "n\n",
            "a\n"
          ]
        }
      ]
    },
    {
      "cell_type": "code",
      "metadata": {
        "id": "MVSFPF_6nrNh",
        "colab": {
          "base_uri": "https://localhost:8080/"
        },
        "outputId": "e76412d1-a4b6-44c9-d730-4e565bf0a16d"
      },
      "source": [
        "#for loop with else\n",
        "#A for loop can have an optional else block as well. The else part is executed if the items in the sequence used in for loop exhausts.\n",
        "\n",
        "digits = [0, 1, 5, 32]\n",
        "\n",
        "for i in digits:\n",
        "    print(i)\n",
        "else:\n",
        "    print(\"No items left.\")"
      ],
      "execution_count": 9,
      "outputs": [
        {
          "output_type": "stream",
          "name": "stdout",
          "text": [
            "0\n",
            "1\n",
            "5\n",
            "32\n",
            "No items left.\n"
          ]
        }
      ]
    },
    {
      "cell_type": "code",
      "metadata": {
        "id": "IvhBhXGCog9r",
        "colab": {
          "base_uri": "https://localhost:8080/"
        },
        "outputId": "0de09849-9107-4588-b736-25d3784eb771"
      },
      "source": [
        "#break statement in for loop\n",
        "#Exit the loop when x is \"banana\":\n",
        "\n",
        "fruits = [\"apple\", \"banana\", \"cherry\"]\n",
        "for x in fruits:\n",
        "  print(x)\n",
        "  if x == \"cherry\":\n",
        "    break"
      ],
      "execution_count": 10,
      "outputs": [
        {
          "output_type": "stream",
          "name": "stdout",
          "text": [
            "apple\n",
            "banana\n",
            "cherry\n"
          ]
        }
      ]
    },
    {
      "cell_type": "code",
      "metadata": {
        "id": "y6P3HdmPorzO",
        "colab": {
          "base_uri": "https://localhost:8080/"
        },
        "outputId": "9bd78848-ff0a-4d5a-ecd8-8bc90143812c"
      },
      "source": [
        "# program to display student's marks from record\n",
        "student_name = 'Sandeep'\n",
        "\n",
        "marks = {'Ankush': 90, 'Divyam': 55, 'Sanjay': 77}\n",
        "\n",
        "for student in marks:\n",
        "    if student == student_name:\n",
        "        print(marks[student])\n",
        "        break\n",
        "else:\n",
        "    print('No entry with that name found.')"
      ],
      "execution_count": 11,
      "outputs": [
        {
          "output_type": "stream",
          "name": "stdout",
          "text": [
            "No entry with that name found.\n"
          ]
        }
      ]
    },
    {
      "cell_type": "markdown",
      "metadata": {
        "id": "bhAPhLBsr4fG"
      },
      "source": [
        "#nested loops in Python programming\n",
        "Python programming language allows to use one loop inside another loop. Following section shows few examples to illustrate the concept."
      ]
    },
    {
      "cell_type": "code",
      "metadata": {
        "id": "35VPrPHppG0j",
        "colab": {
          "base_uri": "https://localhost:8080/"
        },
        "outputId": "9666e086-2e79-46da-9dd9-8fee3354c497"
      },
      "source": [
        "#The following program uses a nested for loop to find the prime numbers from 2 to 100 −\n",
        "i = 2\n",
        "while(i < 100):\n",
        "   j = 2\n",
        "   while(j <= (i/j)):\n",
        "      if not(i%j): break\n",
        "      j = j + 1\n",
        "   if (j > i/j) : print (i, \" is prime\")\n",
        "   i = i + 1\n",
        "\n",
        "print (\"Good bye!\")"
      ],
      "execution_count": 12,
      "outputs": [
        {
          "output_type": "stream",
          "name": "stdout",
          "text": [
            "2  is prime\n",
            "3  is prime\n",
            "5  is prime\n",
            "7  is prime\n",
            "11  is prime\n",
            "13  is prime\n",
            "17  is prime\n",
            "19  is prime\n",
            "23  is prime\n",
            "29  is prime\n",
            "31  is prime\n",
            "37  is prime\n",
            "41  is prime\n",
            "43  is prime\n",
            "47  is prime\n",
            "53  is prime\n",
            "59  is prime\n",
            "61  is prime\n",
            "67  is prime\n",
            "71  is prime\n",
            "73  is prime\n",
            "79  is prime\n",
            "83  is prime\n",
            "89  is prime\n",
            "97  is prime\n",
            "Good bye!\n"
          ]
        }
      ]
    },
    {
      "cell_type": "code",
      "metadata": {
        "id": "-S72i67nsI1R",
        "colab": {
          "base_uri": "https://localhost:8080/"
        },
        "outputId": "6f63dafd-356b-432a-8ac0-baf7286d45a4"
      },
      "source": [
        "#nested loop\n",
        "for i in range(1, 5):\n",
        "    for j in range(i):\n",
        "         print(i, end=' ')\n",
        "    print()"
      ],
      "execution_count": 13,
      "outputs": [
        {
          "output_type": "stream",
          "name": "stdout",
          "text": [
            "1 \n",
            "2 2 \n",
            "3 3 3 \n",
            "4 4 4 4 \n"
          ]
        }
      ]
    },
    {
      "cell_type": "markdown",
      "metadata": {
        "id": "ycpk0VQTuJ_Y"
      },
      "source": [
        "#Functions\n",
        "Functions help to reuse code. They bring modularity and simplicity to code"
      ]
    },
    {
      "cell_type": "code",
      "metadata": {
        "id": "s63dUsKrsodA"
      },
      "source": [
        "# functions in python are created using def statement\n",
        "def name_philospher():\n",
        "  print ('Bertrand Russell')\n"
      ],
      "execution_count": 14,
      "outputs": []
    },
    {
      "cell_type": "code",
      "metadata": {
        "id": "noWbacmCJ3_o",
        "colab": {
          "base_uri": "https://localhost:8080/"
        },
        "outputId": "ddd51848-b154-423a-f631-1c559e03e306"
      },
      "source": [
        "name_philospher()"
      ],
      "execution_count": 15,
      "outputs": [
        {
          "output_type": "stream",
          "name": "stdout",
          "text": [
            "Bertrand Russell\n"
          ]
        }
      ]
    },
    {
      "cell_type": "code",
      "metadata": {
        "id": "7gCcehEFumy7"
      },
      "source": [
        "# One can pass arguments to functions\n",
        "# name is an argument for the function name_of_philosphers\n",
        "\n",
        "def name_philospher(name, country):\n",
        "  print (name,country)\n"
      ],
      "execution_count": null,
      "outputs": []
    },
    {
      "cell_type": "code",
      "metadata": {
        "id": "aDEk0IbiJ-zu"
      },
      "source": [
        "name_philospher('Bertrand Russell', '- United Kingdom')\n",
        "name_philospher('Carl Marx', '- Germany')"
      ],
      "execution_count": null,
      "outputs": []
    },
    {
      "cell_type": "code",
      "metadata": {
        "id": "OoZweM0QuyT1",
        "colab": {
          "base_uri": "https://localhost:8080/"
        },
        "outputId": "bfd8cb2b-c941-4e5b-c648-233b35c019ea"
      },
      "source": [
        "#function can  return values\n",
        "\n",
        "def name_of_philospher(name,country):\n",
        "  str = \"The philosopher {} lived in  country {}\".format(name,country)\n",
        "  return str\n",
        "\n",
        "name = name_of_philospher('Bertrand Russell','United Kingdom')\n",
        "print (name)"
      ],
      "execution_count": 16,
      "outputs": [
        {
          "output_type": "stream",
          "name": "stdout",
          "text": [
            "The philosopher Bertrand Russell lived in  country United Kingdom\n"
          ]
        }
      ]
    },
    {
      "cell_type": "code",
      "metadata": {
        "id": "lWO-1C6CvG5q",
        "colab": {
          "base_uri": "https://localhost:8080/"
        },
        "outputId": "2ff62591-ccbc-46cc-f2d5-bc22c8ca9256"
      },
      "source": [
        "# function can return multiple values\n",
        "# The function adds and subtsracts two numbers\n",
        "def add_and_substract(num1,num2):\n",
        "    add = num1+num2\n",
        "    diff = num1-num2\n",
        "    return add,diff\n",
        "\n",
        "add,diff = add_and_substract(10,2)\n",
        "\n",
        "print (\"The sum is =\",add)\n",
        "print (\"The difference is =\",diff)"
      ],
      "execution_count": 17,
      "outputs": [
        {
          "output_type": "stream",
          "name": "stdout",
          "text": [
            "The sum is = 12\n",
            "The difference is = 8\n"
          ]
        }
      ]
    },
    {
      "cell_type": "code",
      "metadata": {
        "id": "-JFJgyELvhPv",
        "colab": {
          "base_uri": "https://localhost:8080/"
        },
        "outputId": "f1911f1c-f599-4ce6-8aeb-e87e526c4566"
      },
      "source": [
        "# Functions are just like normal variables. They can be assigned and reassigned to variables\n",
        "\n",
        "def add_and_substract(num1,num2):\n",
        "    \"\"\"\n",
        "     The function adds and subtsracts two numbers\n",
        "    \"\"\"\n",
        "    add = num1+num2\n",
        "    diff = num1-num2\n",
        "    return add,diff\n",
        "\n",
        "operation = add_and_substract\n",
        "\n",
        "num1, num2 = operation(10,2)\n",
        "print (num1, num2)\n",
        ""
      ],
      "execution_count": 18,
      "outputs": [
        {
          "output_type": "stream",
          "name": "stdout",
          "text": [
            "12 8\n"
          ]
        }
      ]
    },
    {
      "cell_type": "code",
      "metadata": {
        "id": "pSXRTqf_vlzp",
        "colab": {
          "base_uri": "https://localhost:8080/"
        },
        "outputId": "2320ba7c-1898-42e1-8a54-c640cdb0ce23"
      },
      "source": [
        "# The special syntax, *args and **kwargs in function definitions is used to pass a variable number of arguments to a function.\n",
        "\n",
        "# The single asterisk form (*args) is used to pass a non-keyworded, variable-length argument list,\n",
        "# and the double asterisk form is used to pass a keyworded, variable-length argument list.\n",
        "\n",
        "\n",
        "def add_numbers(*args):\n",
        "\n",
        "  for i in args:\n",
        "    print (i)\n",
        "\n",
        "add_numbers(1,2,3,4,5)\n",
        "\n",
        "\n",
        "\n",
        "def add_numbers(**kwargs):\n",
        "    for key in kwargs:\n",
        "        print (\"another keyword arg: {}: {}\".format(key, kwargs[key]))\n",
        "\n",
        "\n",
        "add_numbers(num1=1,num2=2,num3=3,num4=4,num5=5)"
      ],
      "execution_count": 19,
      "outputs": [
        {
          "output_type": "stream",
          "name": "stdout",
          "text": [
            "1\n",
            "2\n",
            "3\n",
            "4\n",
            "5\n",
            "another keyword arg: num1: 1\n",
            "another keyword arg: num2: 2\n",
            "another keyword arg: num3: 3\n",
            "another keyword arg: num4: 4\n",
            "another keyword arg: num5: 5\n"
          ]
        }
      ]
    },
    {
      "cell_type": "markdown",
      "metadata": {
        "id": "sUmfYCuxwDHu"
      },
      "source": [
        "#Dictionary\n",
        "Python dictionary is an unordered collection of items. Each item of a dictionary has a key/value pair."
      ]
    },
    {
      "cell_type": "code",
      "metadata": {
        "id": "dFWEfNBVzLbs",
        "colab": {
          "base_uri": "https://localhost:8080/"
        },
        "outputId": "9c4f6fd9-2b3f-43e3-a15e-215d44c1702a"
      },
      "source": [
        "#Accessing Values in Dictionary\n",
        "dict = {'Name': 'Zara', 'Age': 7, 'Class': 'First'}\n",
        "print (\"dict['Name']: \", dict['Name'])\n",
        "print (\"dict['Age']: \", dict['Age'])"
      ],
      "execution_count": 21,
      "outputs": [
        {
          "output_type": "stream",
          "name": "stdout",
          "text": [
            "dict['Name']:  Zara\n",
            "dict['Age']:  7\n"
          ]
        }
      ]
    },
    {
      "cell_type": "code",
      "metadata": {
        "id": "zi8b7SsIvv0G",
        "colab": {
          "base_uri": "https://localhost:8080/"
        },
        "outputId": "a7958016-7380-49db-8222-e506b0052bd6"
      },
      "source": [
        "# Dictionaries are data structures used to map key to values\n",
        "\n",
        "philosphers = {\"United Kingdom\":\"Bertrand Russell\", \"Germany\":\"Karl Marx\"}\n",
        "\n",
        "print (philosphers[\"United Kingdom\"])\n",
        "print (philosphers[\"Germany\"])"
      ],
      "execution_count": 20,
      "outputs": [
        {
          "output_type": "stream",
          "name": "stdout",
          "text": [
            "Bertrand Russell\n",
            "Karl Marx\n"
          ]
        }
      ]
    },
    {
      "cell_type": "code",
      "metadata": {
        "id": "_9orzU0Wwepl",
        "colab": {
          "base_uri": "https://localhost:8080/",
          "height": 201
        },
        "outputId": "f2b40b11-1d82-45f3-89a6-47434e9dc411"
      },
      "source": [
        "# Accessing a Index which is not part of dictionary results in a keyerror\n",
        "\n",
        "philosphers = {\"United Kingdom\":\"Bertrand Russell\", \"Germany\":\"Karl Marx\"}\n",
        "\n",
        "print (philosphers[\"India\"])  # This will result in a KeyError"
      ],
      "execution_count": 22,
      "outputs": [
        {
          "output_type": "error",
          "ename": "KeyError",
          "evalue": "ignored",
          "traceback": [
            "\u001b[0;31m---------------------------------------------------------------------------\u001b[0m",
            "\u001b[0;31mKeyError\u001b[0m                                  Traceback (most recent call last)",
            "\u001b[0;32m<ipython-input-22-c98b872da9ab>\u001b[0m in \u001b[0;36m<cell line: 5>\u001b[0;34m()\u001b[0m\n\u001b[1;32m      3\u001b[0m \u001b[0mphilosphers\u001b[0m \u001b[0;34m=\u001b[0m \u001b[0;34m{\u001b[0m\u001b[0;34m\"United Kingdom\"\u001b[0m\u001b[0;34m:\u001b[0m\u001b[0;34m\"Bertrand Russell\"\u001b[0m\u001b[0;34m,\u001b[0m \u001b[0;34m\"Germany\"\u001b[0m\u001b[0;34m:\u001b[0m\u001b[0;34m\"Karl Marx\"\u001b[0m\u001b[0;34m}\u001b[0m\u001b[0;34m\u001b[0m\u001b[0;34m\u001b[0m\u001b[0m\n\u001b[1;32m      4\u001b[0m \u001b[0;34m\u001b[0m\u001b[0m\n\u001b[0;32m----> 5\u001b[0;31m \u001b[0mprint\u001b[0m \u001b[0;34m(\u001b[0m\u001b[0mphilosphers\u001b[0m\u001b[0;34m[\u001b[0m\u001b[0;34m\"India\"\u001b[0m\u001b[0;34m]\u001b[0m\u001b[0;34m)\u001b[0m  \u001b[0;31m# This will result in a KeyError\u001b[0m\u001b[0;34m\u001b[0m\u001b[0;34m\u001b[0m\u001b[0m\n\u001b[0m",
            "\u001b[0;31mKeyError\u001b[0m: 'India'"
          ]
        }
      ]
    },
    {
      "cell_type": "code",
      "metadata": {
        "id": "qMB2_uXGwvbm",
        "colab": {
          "base_uri": "https://localhost:8080/"
        },
        "outputId": "78dcb888-e42c-4e12-90f7-ab928591b9b4"
      },
      "source": [
        "philosphers = {\"UK\":\"Bertrand Russell\", \"Germany\":\"Karl Marx\", \"India\":None}\n",
        "\n",
        "philosphers[\"India\"] = \"AryaBhatt\"              #One can assign a existing key to new value\n",
        "philosphers[\"United Kingdom\"] = \"John Mill\" #One can assign a existing key to new value\n",
        "philosphers[\"United States\"] = \"John Dewey\" # One can create a new key and assign a value\n",
        "\n",
        "print (philosphers)"
      ],
      "execution_count": 23,
      "outputs": [
        {
          "output_type": "stream",
          "name": "stdout",
          "text": [
            "{'UK': 'Bertrand Russell', 'Germany': 'Karl Marx', 'India': 'AryaBhatt', 'United Kingdom': 'John Mill', 'United States': 'John Dewey'}\n"
          ]
        }
      ]
    },
    {
      "cell_type": "code",
      "metadata": {
        "id": "i9dMlW3owxK_",
        "colab": {
          "base_uri": "https://localhost:8080/"
        },
        "outputId": "5f9e04ee-7eb0-4acd-c3b2-afe802cfe17f"
      },
      "source": [
        "# One can determine whether a key is present in dictionary or not (using \"in\" and \"not in\")\n",
        "\n",
        "philosphers = {\"UK\":\"Bertrand Russell\", \"Germany\":\"Karl Marx\", \"India\":\"Arya Bhatt\"}\n",
        "\n",
        "print (\"India\" in philosphers)\n",
        "print (\"Brazil\" in philosphers)\n",
        "print (\"Brazil\" not in philosphers)\n",
        "\n",
        "\n",
        "print(philosphers)"
      ],
      "execution_count": 25,
      "outputs": [
        {
          "output_type": "stream",
          "name": "stdout",
          "text": [
            "True\n",
            "False\n",
            "True\n",
            "{'UK': 'Bertrand Russell', 'Germany': 'Karl Marx', 'India': 'Arya Bhatt'}\n"
          ]
        }
      ]
    },
    {
      "cell_type": "code",
      "metadata": {
        "id": "_79fk3vvw8Ym",
        "colab": {
          "base_uri": "https://localhost:8080/"
        },
        "outputId": "70edf766-bd0b-4ba6-cdc2-cd67f5d6e465"
      },
      "source": [
        "# using keys, values and items in dictionary\n",
        "\n",
        "philosphers = {\"UK\":\"Bertrand Russell\", \"Germany\":\"Karl Marx\", \"India\":\"Arya Bhatt\"}\n",
        "\n",
        "print (philosphers.keys())\n",
        "\n",
        "print(type(philosphers.keys()))\n",
        "\n",
        "print (philosphers.values())\n",
        "print(type(philosphers.values()))\n",
        "\n",
        "print (philosphers.items())\n",
        "print(type(philosphers.items()))"
      ],
      "execution_count": 24,
      "outputs": [
        {
          "output_type": "stream",
          "name": "stdout",
          "text": [
            "dict_keys(['UK', 'Germany', 'India'])\n",
            "<class 'dict_keys'>\n",
            "dict_values(['Bertrand Russell', 'Karl Marx', 'Arya Bhatt'])\n",
            "<class 'dict_values'>\n",
            "dict_items([('UK', 'Bertrand Russell'), ('Germany', 'Karl Marx'), ('India', 'Arya Bhatt')])\n",
            "<class 'dict_items'>\n"
          ]
        }
      ]
    },
    {
      "cell_type": "code",
      "metadata": {
        "id": "JRc1lEzJxBpY",
        "colab": {
          "base_uri": "https://localhost:8080/"
        },
        "outputId": "ac0084a6-e1e3-4971-b7a9-5cc5a4c57c20"
      },
      "source": [
        "# A get method is like an index with added advantage that one can specify a default value\n",
        "# if the index is not found This prevents keyerror\n",
        "\n",
        "philosphers = {\"UK\":\"Bertrand Russell\", \"Germany\":\"Karl Marx\", \"India\":\"Arya Bhatt\"}\n",
        "\n",
        "print (philosphers.get(\"Russia\",\"No philospher set for Russia\"))  # No keyerror\n",
        "print (philosphers.get(\"Russia\"))  # By default a None value will be returned\n",
        "# print (philosphers[\"Russia\"])   # A keyerror occurs"
      ],
      "execution_count": 27,
      "outputs": [
        {
          "output_type": "stream",
          "name": "stdout",
          "text": [
            "No philospher set for Russia\n",
            "None\n"
          ]
        }
      ]
    },
    {
      "cell_type": "markdown",
      "metadata": {
        "id": "KtRUjXbhx6tg"
      },
      "source": [
        "#List\n",
        "A list denotes a container object in python and it is used to store indexed list of items. A list can contain different types of items for e.g. string, integer or other list."
      ]
    },
    {
      "cell_type": "code",
      "metadata": {
        "id": "QAcWa48fxIrB",
        "colab": {
          "base_uri": "https://localhost:8080/"
        },
        "outputId": "eb8022f3-2ae6-4949-c1e3-ae7b579ecabd"
      },
      "source": [
        "word_list = ['This', 'is', 'good']  # A list of 3 items\n",
        "\n",
        "print (word_list[0]) # prints the first  item. Index starts at 0.\n",
        "print (word_list[1]) # prints the second item\n",
        "print (word_list[2]) # print the third item\n",
        "\n",
        "\n",
        "# An empty list is created with empty bracket\n",
        "empty = []\n",
        "print (empty)"
      ],
      "execution_count": 28,
      "outputs": [
        {
          "output_type": "stream",
          "name": "stdout",
          "text": [
            "This\n",
            "is\n",
            "good\n",
            "[]\n"
          ]
        }
      ]
    },
    {
      "cell_type": "code",
      "metadata": {
        "id": "_7I7RqIT0FvX",
        "colab": {
          "base_uri": "https://localhost:8080/"
        },
        "outputId": "fda1bf47-2535-443d-a13b-e74514407ad1"
      },
      "source": [
        "# Negative indexing in lists\n",
        "my_list = ['p','r','o','b','e']\n",
        "\n",
        "print(my_list[-1])\n",
        "\n",
        "print(my_list[-5])"
      ],
      "execution_count": 30,
      "outputs": [
        {
          "output_type": "stream",
          "name": "stdout",
          "text": [
            "e\n",
            "p\n"
          ]
        }
      ]
    },
    {
      "cell_type": "code",
      "metadata": {
        "id": "CI9-jD1R0T7v",
        "colab": {
          "base_uri": "https://localhost:8080/"
        },
        "outputId": "d851c338-d0ba-482a-f7ab-0dc19855ca52"
      },
      "source": [
        "# List slicing in Python\n",
        "\n",
        "my_list = ['S','a','n','j','a','y']\n",
        "\n",
        "# elements 3rd to 5th\n",
        "print(my_list[2:5])\n",
        "\n",
        "# elements beginning to 4th\n",
        "print(my_list[:-5])\n",
        "\n",
        "# elements 6th to end\n",
        "print(my_list[5:])\n",
        "\n",
        "# elements beginning to end\n",
        "print(my_list[:])"
      ],
      "execution_count": 31,
      "outputs": [
        {
          "output_type": "stream",
          "name": "stdout",
          "text": [
            "['n', 'j', 'a']\n",
            "['S']\n",
            "['y']\n",
            "['S', 'a', 'n', 'j', 'a', 'y']\n"
          ]
        }
      ]
    },
    {
      "cell_type": "code",
      "metadata": {
        "id": "fcoFT5Lf03wm",
        "colab": {
          "base_uri": "https://localhost:8080/"
        },
        "outputId": "62228ab7-26bd-4700-9892-d692496b34c0"
      },
      "source": [
        "# Correcting mistake values in a list\n",
        "odd = [2, 4, 6, 8]\n",
        "\n",
        "# change the 1st item\n",
        "odd[0] = 1\n",
        "\n",
        "print(odd)\n",
        "\n",
        "# change 2nd to 4th items\n",
        "odd[1:4] = [3, 5, 7]\n",
        "\n",
        "print(odd)"
      ],
      "execution_count": 32,
      "outputs": [
        {
          "output_type": "stream",
          "name": "stdout",
          "text": [
            "[1, 4, 6, 8]\n",
            "[1, 3, 5, 7]\n"
          ]
        }
      ]
    },
    {
      "cell_type": "code",
      "metadata": {
        "id": "HFf_Xrjr0_Ba",
        "colab": {
          "base_uri": "https://localhost:8080/"
        },
        "outputId": "e63093d5-a13c-461e-df92-4f4aa194c357"
      },
      "source": [
        "# Appending and Extending lists in Python\n",
        "odd = [1, 3, 5]\n",
        "\n",
        "odd.append(7)\n",
        "\n",
        "print(odd)\n",
        "\n",
        "odd.extend([9, 11, 13])\n",
        "\n",
        "print(odd)"
      ],
      "execution_count": 33,
      "outputs": [
        {
          "output_type": "stream",
          "name": "stdout",
          "text": [
            "[1, 3, 5, 7]\n",
            "[1, 3, 5, 7, 9, 11, 13]\n"
          ]
        }
      ]
    },
    {
      "cell_type": "code",
      "metadata": {
        "id": "u0xNZYt_1DX9",
        "colab": {
          "base_uri": "https://localhost:8080/"
        },
        "outputId": "bc507c13-1bd2-4c9b-f330-1509eb783770"
      },
      "source": [
        "# Concatenating\n",
        "odd = [1, 3, 5]\n",
        "\n",
        "print(odd + [9, 7, 5])\n"
      ],
      "execution_count": 34,
      "outputs": [
        {
          "output_type": "stream",
          "name": "stdout",
          "text": [
            "[1, 3, 5, 9, 7, 5]\n"
          ]
        }
      ]
    },
    {
      "cell_type": "code",
      "metadata": {
        "id": "07pBL1I61NjN",
        "colab": {
          "base_uri": "https://localhost:8080/"
        },
        "outputId": "e67dbdf2-8276-464b-cd88-9f53cf81f401"
      },
      "source": [
        "# Deleting list items\n",
        "my_list = ['p', 'r', 'o', 'b', 'l', 'e', 'm']\n",
        "\n",
        "# delete one item\n",
        "del my_list[2]\n",
        "\n",
        "print(my_list)\n",
        "\n",
        "# delete multiple items\n",
        "del my_list[1:5]\n",
        "\n",
        "print(my_list)\n",
        "# delete entire list\n",
        "\n"
      ],
      "execution_count": 35,
      "outputs": [
        {
          "output_type": "stream",
          "name": "stdout",
          "text": [
            "['p', 'r', 'b', 'l', 'e', 'm']\n",
            "['p', 'm']\n"
          ]
        }
      ]
    },
    {
      "cell_type": "code",
      "metadata": {
        "id": "vpfo1G7kuyRd"
      },
      "source": [],
      "execution_count": null,
      "outputs": []
    },
    {
      "cell_type": "code",
      "metadata": {
        "id": "DT41UsDe1fMc",
        "colab": {
          "base_uri": "https://localhost:8080/"
        },
        "outputId": "722d0733-32d3-45b2-bf8c-30b2626b93fe"
      },
      "source": [
        "# Python list methods\n",
        "my_list = [3, 8, 1, 6, 0, 8, 4]\n",
        "\n",
        "# Output: 1\n",
        "print(my_list.index(8))\n",
        "\n",
        "# Output: 2\n",
        "print(my_list.count(8))\n",
        "\n",
        "my_list.sort()\n",
        "\n",
        "# Output: [0, 1, 3, 4, 6, 8, 8]\n",
        "print(my_list)\n",
        "\n",
        "my_list.reverse()\n",
        "\n",
        "# Output: [8, 8, 6, 4, 3, 1, 0]\n",
        "print(my_list)"
      ],
      "execution_count": 36,
      "outputs": [
        {
          "output_type": "stream",
          "name": "stdout",
          "text": [
            "1\n",
            "2\n",
            "[0, 1, 3, 4, 6, 8, 8]\n",
            "[8, 8, 6, 4, 3, 1, 0]\n"
          ]
        }
      ]
    },
    {
      "cell_type": "code",
      "metadata": {
        "id": "iemv69sHz9Jt",
        "colab": {
          "base_uri": "https://localhost:8080/"
        },
        "outputId": "a4d9a44f-0685-46d4-8089-c2c206e61b49"
      },
      "source": [
        "# A list can contain items of multiple types\n",
        "\n",
        "generic_list = [1,\"String\",[1,2,3], 5]\n",
        "\n",
        "print ('Value at {} is {} of type {}'.format(0,generic_list[0],type(generic_list[0])))\n",
        "print ('Value at {} is {} of type {}'.format(1,generic_list[1],type(generic_list[1])))\n",
        "print ('Value at {} is {} of type {}'.format(2,generic_list[2],type(generic_list[2])))\n",
        "print ('Value at {} is {} of type {}'.format(3,generic_list[3],type(generic_list[3])))\n",
        "\n",
        "\n",
        "# nested list access\n",
        "\n",
        "print ('Accessing {} value from nested list {} = {}'.format(1,generic_list[2] ,generic_list[2][1]))"
      ],
      "execution_count": 37,
      "outputs": [
        {
          "output_type": "stream",
          "name": "stdout",
          "text": [
            "Value at 0 is 1 of type <class 'int'>\n",
            "Value at 1 is String of type <class 'str'>\n",
            "Value at 2 is [1, 2, 3] of type <class 'list'>\n",
            "Value at 3 is 5 of type <class 'int'>\n",
            "Accessing 1 value from nested list [1, 2, 3] = 2\n"
          ]
        }
      ]
    },
    {
      "cell_type": "markdown",
      "metadata": {
        "id": "rGkW4GX61pol"
      },
      "source": [
        "#Tuples\n",
        "A tuple in Python is similar to a list. The difference between the two is that we cannot change the elements of a tuple once it is assigned whereas we can change the elements of a list."
      ]
    },
    {
      "cell_type": "code",
      "metadata": {
        "id": "o_2bt9om0sH9",
        "colab": {
          "base_uri": "https://localhost:8080/",
          "height": 83
        },
        "outputId": "92ff12b4-6a1e-475b-ce85-7936a31f5ba3"
      },
      "source": [
        "# Different types of tuples\n",
        "\n",
        "# Empty tuple\n",
        "my_tuple = ()\n",
        "print(my_tuple)\n",
        "\n",
        "# Tuple having integers\n",
        "my_tuple = (1, 2, 3)\n",
        "print(my_tuple)\n",
        "\n",
        "# tuple with mixed datatypes\n",
        "my_tuple = (1, \"Hello\", 3.4)\n",
        "print(my_tuple)\n",
        "\n",
        "# nested tuple\n",
        "my_tuple = (\"mouse\", [8, 4, 6], (1, 2, 3))\n",
        "print(my_tuple)"
      ],
      "execution_count": null,
      "outputs": [
        {
          "output_type": "stream",
          "text": [
            "()\n",
            "(1, 2, 3)\n",
            "(1, 'Hello', 3.4)\n",
            "('mouse', [8, 4, 6], (1, 2, 3))\n"
          ],
          "name": "stdout"
        }
      ]
    },
    {
      "cell_type": "code",
      "metadata": {
        "id": "rsfLyczV15E3",
        "colab": {
          "base_uri": "https://localhost:8080/",
          "height": 83
        },
        "outputId": "d14ebb89-4129-4630-ece7-076dcc13562a"
      },
      "source": [
        "my_tuple = 3, 4.6, \"dog\"\n",
        "print(my_tuple)\n",
        "\n",
        "# tuple unpacking is also possible\n",
        "a, b, c = my_tuple\n",
        "\n",
        "print(a)      # 3\n",
        "print(b)      # 4.6\n",
        "print(c)      # dog"
      ],
      "execution_count": null,
      "outputs": [
        {
          "output_type": "stream",
          "text": [
            "(3, 4.6, 'dog')\n",
            "3\n",
            "4.6\n",
            "dog\n"
          ],
          "name": "stdout"
        }
      ]
    },
    {
      "cell_type": "code",
      "metadata": {
        "id": "xrLZREFr1_RX",
        "colab": {
          "base_uri": "https://localhost:8080/",
          "height": 66
        },
        "outputId": "22a77c9f-187e-42d4-a743-519848698260"
      },
      "source": [
        "my_tuple = (\"hello\")\n",
        "print(type(my_tuple))  # <class 'str'>\n",
        "\n",
        "# Creating a tuple having one element\n",
        "my_tuple = (\"hello\",)\n",
        "print(type(my_tuple))  # <class 'tuple'>\n",
        "\n",
        "# Parentheses is optional\n",
        "my_tuple = \"hello\"\n",
        "print(type(my_tuple))  # <class 'tuple'>"
      ],
      "execution_count": null,
      "outputs": [
        {
          "output_type": "stream",
          "text": [
            "<class 'str'>\n",
            "<class 'tuple'>\n",
            "<class 'str'>\n"
          ],
          "name": "stdout"
        }
      ]
    },
    {
      "cell_type": "code",
      "metadata": {
        "id": "qEkeZQx-2Lox",
        "colab": {
          "base_uri": "https://localhost:8080/",
          "height": 50
        },
        "outputId": "46b54a09-8c2c-420a-fd89-009f56352d9a"
      },
      "source": [
        "# Accessing tuple elements using indexing\n",
        "my_tuple = ('p','e','r','m','i','t')\n",
        "\n",
        "print(my_tuple[0])   # 'p'\n",
        "print(my_tuple[5])   # 't'"
      ],
      "execution_count": null,
      "outputs": [
        {
          "output_type": "stream",
          "text": [
            "p\n",
            "t\n"
          ],
          "name": "stdout"
        }
      ]
    },
    {
      "cell_type": "code",
      "metadata": {
        "id": "PjYgCUhn2R46",
        "colab": {
          "base_uri": "https://localhost:8080/",
          "height": 50
        },
        "outputId": "bc7ffc73-1ebd-434b-bb92-862a6ac531fe"
      },
      "source": [
        "# nested tuple\n",
        "n_tuple = (\"mouse\", [8, 4, 6], (1, 2, 3))\n",
        "\n",
        "# nested index\n",
        "print(n_tuple[0][3])       # 's'\n",
        "print(n_tuple[1][1])       # 4"
      ],
      "execution_count": null,
      "outputs": [
        {
          "output_type": "stream",
          "text": [
            "s\n",
            "4\n"
          ],
          "name": "stdout"
        }
      ]
    },
    {
      "cell_type": "code",
      "metadata": {
        "id": "DTlIjKnF2eRo",
        "colab": {
          "base_uri": "https://localhost:8080/",
          "height": 50
        },
        "outputId": "f429f522-2d5b-4205-fbf2-0eeb993988ee"
      },
      "source": [
        "# Negative indexing for accessing tuple elements\n",
        "my_tuple = ('p', 'e', 'r', 'm', 'i', 't')\n",
        "\n",
        "# Output: 't'\n",
        "print(my_tuple[-1])\n",
        "\n",
        "# Output: 'p'\n",
        "print(my_tuple[-6])"
      ],
      "execution_count": null,
      "outputs": [
        {
          "output_type": "stream",
          "text": [
            "t\n",
            "p\n"
          ],
          "name": "stdout"
        }
      ]
    },
    {
      "cell_type": "code",
      "metadata": {
        "id": "vnadefnt2jE7",
        "colab": {
          "base_uri": "https://localhost:8080/",
          "height": 83
        },
        "outputId": "f79e021c-1fce-4c42-a852-a896c43c1a9e"
      },
      "source": [
        "# Accessing tuple elements using slicing\n",
        "my_tuple = ('s','a','n','j','a','y','I','N','D')\n",
        "\n",
        "# elements 2nd to 4th\n",
        "# Output: ('r', 'o', 'g')\n",
        "print(my_tuple[1:4])\n",
        "\n",
        "# elements beginning to 2nd\n",
        "# Output: ('p', 'r')\n",
        "print(my_tuple[:-7])\n",
        "\n",
        "# elements 8th to end\n",
        "# Output: ('i', 'z')\n",
        "print(my_tuple[7:])\n",
        "\n",
        "# elements beginning to end\n",
        "# Output: ('p', 'r', 'o', 'g', 'r', 'a', 'm', 'i', 'z')\n",
        "print(my_tuple[:])"
      ],
      "execution_count": null,
      "outputs": [
        {
          "output_type": "stream",
          "text": [
            "('a', 'n', 'j')\n",
            "('s', 'a')\n",
            "('N', 'D')\n",
            "('s', 'a', 'n', 'j', 'a', 'y', 'I', 'N', 'D')\n"
          ],
          "name": "stdout"
        }
      ]
    },
    {
      "cell_type": "code",
      "metadata": {
        "id": "0AGtTV_h2oF6",
        "colab": {
          "base_uri": "https://localhost:8080/",
          "height": 33
        },
        "outputId": "31a38de1-c73e-41a2-e560-db6c0f823f6b"
      },
      "source": [
        "# Changing tuple values\n",
        "my_tuple = (4, 2, 3, [6, 5])\n",
        "\n",
        "\n",
        "# However, item of mutable element can be changed\n",
        "my_tuple[3][0] = 9\n",
        "print(my_tuple)"
      ],
      "execution_count": null,
      "outputs": [
        {
          "output_type": "stream",
          "text": [
            "(4, 2, 3, [9, 5])\n"
          ],
          "name": "stdout"
        }
      ]
    },
    {
      "cell_type": "code",
      "metadata": {
        "id": "XevTspiU2_BM"
      },
      "source": [
        "# Concatenation\n",
        "# Output: (1, 2, 3, 4, 5, 6)\n",
        "print((1, 2, 3) + (4, 5, 6))\n",
        "\n",
        "# Repeat\n",
        "# Output: ('Repeat', 'Repeat', 'Repeat')\n",
        "print((\"Repeat\",) * 3)"
      ],
      "execution_count": null,
      "outputs": []
    },
    {
      "cell_type": "code",
      "metadata": {
        "id": "8BWJWjbL3Wsa"
      },
      "source": [
        "# Deleting tuples\n",
        "my_tuple = ('S', 'A', 'N', 'J', 'A', 'Y')\n",
        "\n",
        "# Can delete an entire tuple\n",
        "del my_tuple\n",
        "\n",
        "# NameError: name 'my_tuple' is not defined\n",
        "print(my_tuple)"
      ],
      "execution_count": null,
      "outputs": []
    },
    {
      "cell_type": "markdown",
      "metadata": {
        "id": "6KTbpeHA3zcN"
      },
      "source": [
        "#Python Exception Handling\n",
        "Exceptions occur when something wrong happens in the code. The program stops immediately.\n",
        "Exceptions can be raised for multiple reasons. For e.g.\n",
        "\n",
        "ImportError - An import fails\n",
        "\n",
        "IndexError - A list is indexed with out of range error\n",
        "\n",
        "SytanxError - Some syntax error\n",
        "\n",
        "TypeError - A function is called with a wrong type of variable\n",
        "\n",
        "ValueError - A function is called with inappropriate value"
      ]
    },
    {
      "cell_type": "code",
      "metadata": {
        "id": "GbMoshF13aPT",
        "colab": {
          "base_uri": "https://localhost:8080/",
          "height": 322
        },
        "outputId": "460a4411-e44c-4095-bfe6-3ecba9b40b2e"
      },
      "source": [
        "#import nump1 #Import Error\n",
        "\n",
        "#list = [1,2,3]\n",
        "#list[4]        # Index Error\n",
        "\n",
        "\n",
        "#list = {1,2,3] # Syntax error\n",
        "\n",
        "\n",
        "#x = int('One') # This causes a value error\n",
        "\n",
        "def add_num(num1,num2):\n",
        "    return int(num1)+int(num2)   #value error\n",
        "\n",
        "add_num(\"One\",\"Two\")"
      ],
      "execution_count": 38,
      "outputs": [
        {
          "output_type": "error",
          "ename": "ValueError",
          "evalue": "ignored",
          "traceback": [
            "\u001b[0;31m---------------------------------------------------------------------------\u001b[0m",
            "\u001b[0;31mValueError\u001b[0m                                Traceback (most recent call last)",
            "\u001b[0;32m<ipython-input-38-5eb6e8348814>\u001b[0m in \u001b[0;36m<cell line: 15>\u001b[0;34m()\u001b[0m\n\u001b[1;32m     13\u001b[0m     \u001b[0;32mreturn\u001b[0m \u001b[0mint\u001b[0m\u001b[0;34m(\u001b[0m\u001b[0mnum1\u001b[0m\u001b[0;34m)\u001b[0m\u001b[0;34m+\u001b[0m\u001b[0mint\u001b[0m\u001b[0;34m(\u001b[0m\u001b[0mnum2\u001b[0m\u001b[0;34m)\u001b[0m   \u001b[0;31m#value error\u001b[0m\u001b[0;34m\u001b[0m\u001b[0;34m\u001b[0m\u001b[0m\n\u001b[1;32m     14\u001b[0m \u001b[0;34m\u001b[0m\u001b[0m\n\u001b[0;32m---> 15\u001b[0;31m \u001b[0madd_num\u001b[0m\u001b[0;34m(\u001b[0m\u001b[0;34m\"One\"\u001b[0m\u001b[0;34m,\u001b[0m\u001b[0;34m\"Two\"\u001b[0m\u001b[0;34m)\u001b[0m\u001b[0;34m\u001b[0m\u001b[0;34m\u001b[0m\u001b[0m\n\u001b[0m",
            "\u001b[0;32m<ipython-input-38-5eb6e8348814>\u001b[0m in \u001b[0;36madd_num\u001b[0;34m(num1, num2)\u001b[0m\n\u001b[1;32m     11\u001b[0m \u001b[0;34m\u001b[0m\u001b[0m\n\u001b[1;32m     12\u001b[0m \u001b[0;32mdef\u001b[0m \u001b[0madd_num\u001b[0m\u001b[0;34m(\u001b[0m\u001b[0mnum1\u001b[0m\u001b[0;34m,\u001b[0m\u001b[0mnum2\u001b[0m\u001b[0;34m)\u001b[0m\u001b[0;34m:\u001b[0m\u001b[0;34m\u001b[0m\u001b[0;34m\u001b[0m\u001b[0m\n\u001b[0;32m---> 13\u001b[0;31m     \u001b[0;32mreturn\u001b[0m \u001b[0mint\u001b[0m\u001b[0;34m(\u001b[0m\u001b[0mnum1\u001b[0m\u001b[0;34m)\u001b[0m\u001b[0;34m+\u001b[0m\u001b[0mint\u001b[0m\u001b[0;34m(\u001b[0m\u001b[0mnum2\u001b[0m\u001b[0;34m)\u001b[0m   \u001b[0;31m#value error\u001b[0m\u001b[0;34m\u001b[0m\u001b[0;34m\u001b[0m\u001b[0m\n\u001b[0m\u001b[1;32m     14\u001b[0m \u001b[0;34m\u001b[0m\u001b[0m\n\u001b[1;32m     15\u001b[0m \u001b[0madd_num\u001b[0m\u001b[0;34m(\u001b[0m\u001b[0;34m\"One\"\u001b[0m\u001b[0;34m,\u001b[0m\u001b[0;34m\"Two\"\u001b[0m\u001b[0;34m)\u001b[0m\u001b[0;34m\u001b[0m\u001b[0;34m\u001b[0m\u001b[0m\n",
            "\u001b[0;31mValueError\u001b[0m: invalid literal for int() with base 10: 'One'"
          ]
        }
      ]
    },
    {
      "cell_type": "code",
      "metadata": {
        "id": "EnsDyBze4iXF",
        "colab": {
          "base_uri": "https://localhost:8080/"
        },
        "outputId": "24ea91a2-eb12-4a10-e68b-405f792512be"
      },
      "source": [
        "# To handle exceptions we use try/except statement. Try contains code that might throw an exception\n",
        "try:\n",
        "  num1 = 8\n",
        "  num2 = 0\n",
        "  x = num1/num2           # This line throws exception. The code stops immediately.\n",
        "  print (\"This statement will not be printed\") # This line is not executed.\n",
        "\n",
        "except ZeroDivisionError:\n",
        "   print (\"Zero Division Error\")"
      ],
      "execution_count": 39,
      "outputs": [
        {
          "output_type": "stream",
          "name": "stdout",
          "text": [
            "Zero Division Error\n"
          ]
        }
      ]
    },
    {
      "cell_type": "code",
      "metadata": {
        "id": "hDDfDKsX4tt9",
        "colab": {
          "base_uri": "https://localhost:8080/"
        },
        "outputId": "96a4c5f0-cb60-40ea-b25a-dace962498b4"
      },
      "source": [
        "# A try statement can have multiple except blocks\n",
        "\n",
        "try:\n",
        "  variable = 10\n",
        "  print(variable+\"hello\")\n",
        "  print(variable/2)\n",
        "\n",
        "except ZeroDivisionError:\n",
        "  print(\"Divided by Zero\")\n",
        "except(ValueError, TypeError):\n",
        "  print(\"Error Occured\")\n",
        ""
      ],
      "execution_count": 40,
      "outputs": [
        {
          "output_type": "stream",
          "name": "stdout",
          "text": [
            "Error Occured\n"
          ]
        }
      ]
    },
    {
      "cell_type": "code",
      "metadata": {
        "id": "fSHjnsoX5MxR",
        "colab": {
          "base_uri": "https://localhost:8080/"
        },
        "outputId": "74541202-4d71-414f-ac6d-f7451faaa26a"
      },
      "source": [
        "# An except statement without any exception specified will catch all errors\n",
        "\n",
        "try:\n",
        "\n",
        "  4/0\n",
        "\n",
        "except:\n",
        "  print (\"Error Occured\")"
      ],
      "execution_count": 41,
      "outputs": [
        {
          "output_type": "stream",
          "name": "stdout",
          "text": [
            "Error Occured\n"
          ]
        }
      ]
    },
    {
      "cell_type": "code",
      "metadata": {
        "id": "ytFd54Oi5Ri_",
        "colab": {
          "base_uri": "https://localhost:8080/"
        },
        "outputId": "79de6f6f-1d4f-443f-894e-5b07bcefbbfb"
      },
      "source": [
        "# To ensure that code runs no matter a finally block will be used\n",
        "try:\n",
        "  print(\"Step 1\")\n",
        "  4/0                            # An exception happen here\n",
        "except ZeroDivisionError:        # The exception is caught here\n",
        "  print (\"Divided by Zero\")      # This is printed\n",
        "\n",
        "finally:\n",
        "  print(\"This will be always executed\")  # This will be executed whether there is exception or not"
      ],
      "execution_count": 42,
      "outputs": [
        {
          "output_type": "stream",
          "name": "stdout",
          "text": [
            "Step 1\n",
            "Divided by Zero\n",
            "This will be always executed\n"
          ]
        }
      ]
    },
    {
      "cell_type": "code",
      "metadata": {
        "id": "XEcbQso-5XY0",
        "colab": {
          "base_uri": "https://localhost:8080/",
          "height": 426
        },
        "outputId": "c2f08d8b-d7ea-49f7-c22a-414f9a23aa2d"
      },
      "source": [
        "# Code in finally statement always runs even if there is an exception in above block\n",
        "\n",
        "try:\n",
        "  print (8/0)\n",
        "except ZeroDivisionError:\n",
        "  print (unknown_data)  # This will trigger an exception\n",
        "finally:\n",
        "  print (\"This will always be executed\")"
      ],
      "execution_count": 43,
      "outputs": [
        {
          "output_type": "stream",
          "name": "stdout",
          "text": [
            "This will always be executed\n"
          ]
        },
        {
          "output_type": "error",
          "ename": "NameError",
          "evalue": "ignored",
          "traceback": [
            "\u001b[0;31m---------------------------------------------------------------------------\u001b[0m",
            "\u001b[0;31mZeroDivisionError\u001b[0m                         Traceback (most recent call last)",
            "\u001b[0;32m<ipython-input-43-669d712dfed3>\u001b[0m in \u001b[0;36m<cell line: 3>\u001b[0;34m()\u001b[0m\n\u001b[1;32m      3\u001b[0m \u001b[0;32mtry\u001b[0m\u001b[0;34m:\u001b[0m\u001b[0;34m\u001b[0m\u001b[0;34m\u001b[0m\u001b[0m\n\u001b[0;32m----> 4\u001b[0;31m   \u001b[0mprint\u001b[0m \u001b[0;34m(\u001b[0m\u001b[0;36m8\u001b[0m\u001b[0;34m/\u001b[0m\u001b[0;36m0\u001b[0m\u001b[0;34m)\u001b[0m\u001b[0;34m\u001b[0m\u001b[0;34m\u001b[0m\u001b[0m\n\u001b[0m\u001b[1;32m      5\u001b[0m \u001b[0;32mexcept\u001b[0m \u001b[0mZeroDivisionError\u001b[0m\u001b[0;34m:\u001b[0m\u001b[0;34m\u001b[0m\u001b[0;34m\u001b[0m\u001b[0m\n",
            "\u001b[0;31mZeroDivisionError\u001b[0m: division by zero",
            "\nDuring handling of the above exception, another exception occurred:\n",
            "\u001b[0;31mNameError\u001b[0m                                 Traceback (most recent call last)",
            "\u001b[0;32m<ipython-input-43-669d712dfed3>\u001b[0m in \u001b[0;36m<cell line: 3>\u001b[0;34m()\u001b[0m\n\u001b[1;32m      4\u001b[0m   \u001b[0mprint\u001b[0m \u001b[0;34m(\u001b[0m\u001b[0;36m8\u001b[0m\u001b[0;34m/\u001b[0m\u001b[0;36m0\u001b[0m\u001b[0;34m)\u001b[0m\u001b[0;34m\u001b[0m\u001b[0;34m\u001b[0m\u001b[0m\n\u001b[1;32m      5\u001b[0m \u001b[0;32mexcept\u001b[0m \u001b[0mZeroDivisionError\u001b[0m\u001b[0;34m:\u001b[0m\u001b[0;34m\u001b[0m\u001b[0;34m\u001b[0m\u001b[0m\n\u001b[0;32m----> 6\u001b[0;31m   \u001b[0mprint\u001b[0m \u001b[0;34m(\u001b[0m\u001b[0munknown_data\u001b[0m\u001b[0;34m)\u001b[0m  \u001b[0;31m# This will trigger an exception\u001b[0m\u001b[0;34m\u001b[0m\u001b[0;34m\u001b[0m\u001b[0m\n\u001b[0m\u001b[1;32m      7\u001b[0m \u001b[0;32mfinally\u001b[0m\u001b[0;34m:\u001b[0m\u001b[0;34m\u001b[0m\u001b[0;34m\u001b[0m\u001b[0m\n\u001b[1;32m      8\u001b[0m   \u001b[0mprint\u001b[0m \u001b[0;34m(\u001b[0m\u001b[0;34m\"This will always be executed\"\u001b[0m\u001b[0;34m)\u001b[0m\u001b[0;34m\u001b[0m\u001b[0;34m\u001b[0m\u001b[0m\n",
            "\u001b[0;31mNameError\u001b[0m: name 'unknown_data' is not defined"
          ]
        }
      ]
    },
    {
      "cell_type": "code",
      "metadata": {
        "id": "hGTpt0Q25gBW",
        "colab": {
          "base_uri": "https://localhost:8080/",
          "height": 201
        },
        "outputId": "c2bc0930-0c15-4f15-fe6e-a1744bd8ee5e"
      },
      "source": [
        "# Exceptions can be raised by giving details about arguments\n",
        "\n",
        "name = \"123\"\n",
        "raise NameError(\"Invalid Name\")"
      ],
      "execution_count": 44,
      "outputs": [
        {
          "output_type": "error",
          "ename": "NameError",
          "evalue": "ignored",
          "traceback": [
            "\u001b[0;31m---------------------------------------------------------------------------\u001b[0m",
            "\u001b[0;31mNameError\u001b[0m                                 Traceback (most recent call last)",
            "\u001b[0;32m<ipython-input-44-a6471e6752bd>\u001b[0m in \u001b[0;36m<cell line: 4>\u001b[0;34m()\u001b[0m\n\u001b[1;32m      2\u001b[0m \u001b[0;34m\u001b[0m\u001b[0m\n\u001b[1;32m      3\u001b[0m \u001b[0mname\u001b[0m \u001b[0;34m=\u001b[0m \u001b[0;34m\"123\"\u001b[0m\u001b[0;34m\u001b[0m\u001b[0;34m\u001b[0m\u001b[0m\n\u001b[0;32m----> 4\u001b[0;31m \u001b[0;32mraise\u001b[0m \u001b[0mNameError\u001b[0m\u001b[0;34m(\u001b[0m\u001b[0;34m\"Invalid Name\"\u001b[0m\u001b[0;34m)\u001b[0m\u001b[0;34m\u001b[0m\u001b[0;34m\u001b[0m\u001b[0m\n\u001b[0m",
            "\u001b[0;31mNameError\u001b[0m: Invalid Name"
          ]
        }
      ]
    },
    {
      "cell_type": "code",
      "metadata": {
        "id": "Autn9yKh5jnt",
        "colab": {
          "base_uri": "https://localhost:8080/"
        },
        "outputId": "b9e586ed-44d0-4a9f-c281-f88c8dacc1d2"
      },
      "source": [
        "def my_func():\n",
        "  try:\n",
        "    4/0   # This raises ZeroDivisionError\n",
        "\n",
        "  except Exception as ex:\n",
        "    template = \"An exception of type {0} occurred. Arguments:\\n{1!r}\"\n",
        "    message = template.format(type(ex).__name__, ex.args)\n",
        "    print (message)\n",
        "    raise # The ZeroDivisionError is propogated out\n",
        "\n",
        "\n",
        "def another_func():\n",
        "  try:\n",
        "    my_func()\n",
        "  except ZeroDivisionError: # The ZeroDivisionError is caught\n",
        "      print ('Error')\n",
        "\n",
        "another_func()\n",
        ""
      ],
      "execution_count": 45,
      "outputs": [
        {
          "output_type": "stream",
          "name": "stdout",
          "text": [
            "An exception of type ZeroDivisionError occurred. Arguments:\n",
            "('division by zero',)\n",
            "Error\n"
          ]
        }
      ]
    },
    {
      "cell_type": "code",
      "metadata": {
        "id": "flyw1efJ5pul"
      },
      "source": [],
      "execution_count": null,
      "outputs": []
    }
  ]
}